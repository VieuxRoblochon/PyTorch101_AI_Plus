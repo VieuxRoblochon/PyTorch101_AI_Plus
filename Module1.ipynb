{
 "cells": [
  {
   "cell_type": "code",
   "execution_count": null,
   "metadata": {},
   "outputs": [],
   "source": [
    "# If you're using Google Colab, please run these two commands first\n",
    "# !wget https://github.com/dvgodoy/PyTorch101_AI_Plus/raw/main/quiz.zip\n",
    "# !unzip -qo quiz.zip"
   ]
  },
  {
   "cell_type": "code",
   "execution_count": 2,
   "metadata": {
    "scrolled": true
   },
   "outputs": [
    {
     "data": {
      "text/html": [
       "<style>.container { width:90% !important; }.text_cell_render, .output_text {font-family: Lato;font-size: 18px;line-height: 1.5;}.CodeMirror {font-size: 16px;}</style>"
      ],
      "text/plain": [
       "<IPython.core.display.HTML object>"
      ]
     },
     "metadata": {},
     "output_type": "display_data"
    }
   ],
   "source": [
    "from IPython.display import display, HTML\n",
    "display(HTML(\"\"\"<style>.container { width:90% !important; }.text_cell_render, .output_text {font-family: Lato;font-size: 18px;line-height: 1.5;}.CodeMirror {font-size: 16px;}</style>\"\"\"))\n",
    "from quiz.jupyterquiz import display_quiz"
   ]
  },
  {
   "cell_type": "markdown",
   "metadata": {},
   "source": [
    "# Module 1"
   ]
  },
  {
   "cell_type": "code",
   "execution_count": null,
   "metadata": {},
   "outputs": [],
   "source": [
    "import numpy as np\n",
    "import matplotlib.pyplot as plt\n",
    "plt.style.use('fivethirtyeight')"
   ]
  },
  {
   "cell_type": "markdown",
   "metadata": {
    "colab_type": "text",
    "id": "3Y3FcRg0qJ0s"
   },
   "source": [
    "## A Simple Problem - Linear Regression"
   ]
  },
  {
   "cell_type": "markdown",
   "metadata": {
    "colab_type": "text",
    "id": "vlYSOAy8smmJ"
   },
   "source": [
    "Most tutorials start with some nice and pretty *image classification problem* to illustrate how to use PyTorch. It may seem cool, but I believe it **distracts** you from the **main goal: how PyTorch works**?\n",
    "\n",
    "For this reason, in this tutorial, I will stick with a **simple** and **familiar** problem: a **linear regression with a single feature x**! It doesn’t get much simpler than that…"
   ]
  },
  {
   "cell_type": "markdown",
   "metadata": {},
   "source": [
    "$$\n",
    "\\Large y = b + w x + \\epsilon\n",
    "$$"
   ]
  },
  {
   "cell_type": "markdown",
   "metadata": {},
   "source": [
    "We can also think of it as the **simplest neural network**: one node, one input, one output, linear activation function.\n",
    "\n",
    "<p align=\"center\">\n",
    "<img src=\"https://raw.githubusercontent.com/dvgodoy/PyTorch101_AI_Plus/main/images/NNs_bias_2.png\" width=\"50%\" height=\"50%\">\n",
    "</p>"
   ]
  },
  {
   "cell_type": "markdown",
   "metadata": {},
   "source": [
    "We can also conceive the very same model structure in a less abstract way:\n",
    "\n",
    "<br>\n",
    "<center>\n",
    "    <h3><strong>salary = minimum wage + increase per year * years of experience + noise</strong></h3>\n",
    "</center>\n",
    "<br>\n",
    "\n",
    "And to make it even more concrete, let's say that the **minimum wage** is **$1,000** (whatever the currency or time frame, this is not important). So, if you have **no experience**, your salary is going to be the **minimum wage** (parameter _b_).\n",
    "\n",
    "Also, let's say that, **on average**, you get a **\\$2,000 increase** (parameter _w_) for every year of experience you have. So, if you have **two years of experience**, you are expected to earn a salary of **\\$5,000**. But your actual salary is **\\$5,600** (lucky you!). Since the model cannot account for those **extra \\$600**, your extra money is, technically speaking, **noise**."
   ]
  },
  {
   "cell_type": "markdown",
   "metadata": {
    "colab_type": "text",
    "id": "oHiXYWCMrGEr"
   },
   "source": [
    "### Data Generation"
   ]
  },
  {
   "cell_type": "markdown",
   "metadata": {
    "colab_type": "text",
    "id": "v7gu_5iGsVrA"
   },
   "source": [
    "Let’s start **generating** some synthetic data: we start with a vector of 100 points for our **feature x** and create our **labels** using **b = 1, w = 2** and some Gaussian noise."
   ]
  },
  {
   "cell_type": "code",
   "execution_count": 4,
   "metadata": {
    "colab": {},
    "colab_type": "code",
    "id": "l36meXzoop0U"
   },
   "outputs": [],
   "source": [
    "true_b = 1\n",
    "true_w = 2\n",
    "N = 100\n",
    "\n",
    "# Data Generation\n",
    "np.random.seed(42)\n",
    "x = np.random.rand(N, 1)\n",
    "epsilon = .1 * np.random.randn(N, 1)\n",
    "y = true_b + true_w * x + epsilon"
   ]
  },
  {
   "cell_type": "markdown",
   "metadata": {},
   "source": [
    "### Train-Validation-Test Split\n",
    "\n",
    "The split should always be the **first thing you do**—no preprocessing, no transformations; **nothing happens before the split**. That’s why we do this **immediately after the synthetic data generation**."
   ]
  },
  {
   "cell_type": "markdown",
   "metadata": {},
   "source": [
    "- ***Training Set***: the data you use to, obviously, ***train*** your model - you can use and abuse this data!\n",
    "\n",
    "\n",
    "- ***Validation Set***: the data you should only use to ***hyper-parameter tuning***, that is, comparing differently parameterized models trained on the training data, to decide which parameters are best. \n",
    "\n",
    "    You should use, but ***not*** abuse this data, as it is intended to provide an ***unbiased*** evaluation of your model and, if you mess around with it too much, you'll end up incorporating knowledge about it in your model without even noticing.\n",
    "\n",
    "\n",
    "- ***Test Set***: the data you should use only ***once***, when you are done with everything else, to check if your model is still performing well.\n",
    "\n",
    "    I like to pretend this is data from the **_\"future\"_** - that particular day in the future when my model is ready to give it a go in the real world! So, until that day, I cannot know this data, as the future hasn't arrived yet :-)\n",
    "    \n",
    "![](https://raw.githubusercontent.com/dvgodoy/PyTorch101_AI_Plus/main/images/train_test_split.png)"
   ]
  },
  {
   "cell_type": "markdown",
   "metadata": {
    "colab_type": "text",
    "id": "LGWRIovYrsxp"
   },
   "source": [
    "Next, let’s **split** our synthetic data into **train** and **validation** sets, shuffling the array of indices and using the first 80 shuffled points for training."
   ]
  },
  {
   "cell_type": "code",
   "execution_count": 5,
   "metadata": {},
   "outputs": [],
   "source": [
    "# from sklearn.model_selection import train_test_split\n",
    "# x_train, x_val, y_train, y_val = train_test_split(x, y, test_size=0.2, random_state=42)"
   ]
  },
  {
   "cell_type": "code",
   "execution_count": 6,
   "metadata": {
    "colab": {},
    "colab_type": "code",
    "id": "6itdbvQXp8Xx"
   },
   "outputs": [],
   "source": [
    "# Shuffles the indices\n",
    "idx = np.arange(N)\n",
    "np.random.shuffle(idx)\n",
    "\n",
    "# Uses first 80 random indices for train\n",
    "train_idx = idx[:int(N*.8)]\n",
    "# Uses the remaining indices for validation\n",
    "val_idx = idx[int(N*.8):]\n",
    "\n",
    "# Generates train and validation sets\n",
    "x_train, y_train = x[train_idx], y[train_idx]\n",
    "x_val, y_val = x[val_idx], y[val_idx]"
   ]
  },
  {
   "cell_type": "code",
   "execution_count": 7,
   "metadata": {
    "colab": {
     "base_uri": "https://localhost:8080/",
     "height": 342
    },
    "colab_type": "code",
    "id": "D4E8Dqaar1bn",
    "outputId": "8ee22423-5276-4f2d-b2a9-e7a425278224"
   },
   "outputs": [
    {
     "data": {
      "text/plain": [
       "Text(0.5, 1.0, 'Generated Data - Validation')"
      ]
     },
     "execution_count": 7,
     "metadata": {},
     "output_type": "execute_result"
    },
    {
     "data": {
      "image/png": "[encoded data removed]",
      "text/plain": [
       "<Figure size 864x288 with 2 Axes>"
      ]
     },
     "metadata": {},
     "output_type": "display_data"
    }
   ],
   "source": [
    "fig, ax = plt.subplots(1, 2, figsize=(12, 4))\n",
    "ax[0].scatter(x_train, y_train)\n",
    "ax[0].set_xlabel('x')\n",
    "ax[0].set_ylabel('y')\n",
    "ax[0].set_ylim([1, 3])\n",
    "ax[0].set_title('Generated Data - Train')\n",
    "ax[1].scatter(x_val, y_val, c='r')\n",
    "ax[1].set_xlabel('x')\n",
    "ax[1].set_ylabel('y')\n",
    "ax[1].set_ylim([1, 3])\n",
    "ax[1].set_title('Generated Data - Validation')"
   ]
  },
  {
   "cell_type": "markdown",
   "metadata": {
    "colab_type": "text",
    "id": "-p8xcQKo9pDQ"
   },
   "source": [
    "## PyTorch: tensors, tensors, tensors"
   ]
  },
  {
   "cell_type": "code",
   "execution_count": 8,
   "metadata": {
    "colab": {},
    "colab_type": "code",
    "id": "2bKKlGN9BaBa"
   },
   "outputs": [],
   "source": [
    "#!pip install --quiet torchviz\n",
    "import torch\n",
    "import torch.optim as optim\n",
    "import torch.nn as nn\n",
    "from torchviz import make_dot"
   ]
  },
  {
   "cell_type": "markdown",
   "metadata": {
    "colab_type": "text",
    "id": "2usggtDH9r2e"
   },
   "source": [
    "First, we need to cover a **few basic concepts** that may throw you off-balance if you don’t grasp them well enough before going full-force on modeling.\n",
    "\n",
    "In Deep Learning, we see **tensors** everywhere. Well, Google’s framework is called *TensorFlow* for a reason! *What is a tensor, anyway*?"
   ]
  },
  {
   "cell_type": "markdown",
   "metadata": {
    "colab_type": "text",
    "id": "vwyU03EC-zPj"
   },
   "source": [
    "### Tensors\n",
    "\n",
    "In *Numpy*, you may have an **array** that has **three dimensions**, right? That is, technically speaking, a **tensor**.\n",
    "\n",
    "A **scalar** (a single number) has **zero** dimensions, a **vector has one** dimension, a **matrix has two** dimensions and a **tensor has three or more dimensions**. That’s it!\n",
    "\n",
    "But, to keep things simple, it is commonplace to call vectors and matrices tensors as well — so, from now on, **everything is either a scalar or a tensor**."
   ]
  },
  {
   "cell_type": "markdown",
   "metadata": {},
   "source": [
    "![](https://raw.githubusercontent.com/dvgodoy/PyTorch101_AI_Plus/main/images/tensors.png)"
   ]
  },
  {
   "cell_type": "markdown",
   "metadata": {
    "colab_type": "text",
    "id": "rPdIb6pIXrwW"
   },
   "source": [
    "You can create **tensors** in PyTorch pretty much the same way you create **arrays** in Numpy. Using [**tensor()**](https://bit.ly/39DRbFv) you can create either a scalar or a tensor.\n",
    "\n",
    "PyTorch's tensors have equivalent functions as its Numpy counterparts, like: [**ones()**](https://bit.ly/3f9W7TU), [**zeros()**](https://bit.ly/3hKoDgo), [**rand()**](https://bit.ly/2P3sQj5), [**randn()**](https://bit.ly/30b0SIq) and many more."
   ]
  },
  {
   "cell_type": "code",
   "execution_count": 9,
   "metadata": {
    "colab": {
     "base_uri": "https://localhost:8080/",
     "height": 208
    },
    "colab_type": "code",
    "id": "KeV7KOyBUi2S",
    "outputId": "87c42cb8-2e8b-4113-856b-d8ab0bce28d9"
   },
   "outputs": [
    {
     "name": "stdout",
     "output_type": "stream",
     "text": [
      "tensor(3.1416)\n",
      "tensor([1, 2, 3])\n",
      "tensor([[1., 1., 1.],\n",
      "        [1., 1., 1.]])\n",
      "tensor([[[-0.7290,  0.6708,  0.2293, -1.1518],\n",
      "         [-1.2728, -0.4332, -1.1476,  0.0110],\n",
      "         [-0.4375,  0.4285,  0.0212,  1.9229]],\n",
      "\n",
      "        [[-0.6502, -0.9148, -0.6658, -0.5358],\n",
      "         [ 0.4365,  0.3877,  0.0603,  0.3948],\n",
      "         [ 0.5909,  0.6276, -0.7665, -0.5037]]])\n"
     ]
    }
   ],
   "source": [
    "scalar = torch.tensor(3.14159)\n",
    "vector = torch.tensor([1, 2, 3])\n",
    "matrix = torch.ones((2, 3), dtype=torch.float)\n",
    "tensor = torch.randn((2, 3, 4), dtype=torch.float)\n",
    "\n",
    "print(scalar)\n",
    "print(vector)\n",
    "print(matrix)\n",
    "print(tensor)"
   ]
  },
  {
   "cell_type": "markdown",
   "metadata": {
    "colab_type": "text",
    "id": "wUp_UkLOcApC"
   },
   "source": [
    "You can get the shape of a tensor using its [**size()**](https://pytorch.org/docs/stable/generated/torch.Tensor.size.html#torch.Tensor.size) method or its **shape** attribute."
   ]
  },
  {
   "cell_type": "code",
   "execution_count": 10,
   "metadata": {
    "colab": {
     "base_uri": "https://localhost:8080/",
     "height": 34
    },
    "colab_type": "code",
    "id": "pumy8ocYbpcC",
    "outputId": "de6392ac-100c-4935-85c7-aa4095347c17"
   },
   "outputs": [
    {
     "name": "stdout",
     "output_type": "stream",
     "text": [
      "torch.Size([2, 3, 4]) torch.Size([2, 3, 4])\n"
     ]
    }
   ],
   "source": [
    "print(tensor.size(), tensor.shape)"
   ]
  },
  {
   "cell_type": "markdown",
   "metadata": {
    "colab_type": "text",
    "id": "E-9UB154cIsr"
   },
   "source": [
    "You can also reshape a tensor using its [**reshape()**](https://pytorch.org/docs/stable/generated/torch.Tensor.reshape.html#torch.Tensor.reshape) or [**view()**](https://pytorch.org/docs/stable/generated/torch.Tensor.view.html#torch.Tensor.view) methods.\n",
    "\n",
    "Beware: these methods create a new tensor with the desired shape that **shares the underlying data** with the original tensor!"
   ]
  },
  {
   "cell_type": "code",
   "execution_count": 11,
   "metadata": {
    "colab": {
     "base_uri": "https://localhost:8080/",
     "height": 34
    },
    "colab_type": "code",
    "id": "dd5eSRi-XObM",
    "outputId": "d1a67c41-e177-4280-a280-202491c93135"
   },
   "outputs": [
    {
     "name": "stdout",
     "output_type": "stream",
     "text": [
      "torch.Size([2, 12]) torch.Size([2, 12])\n"
     ]
    }
   ],
   "source": [
    "new_tensor1 = tensor.reshape(2, -1)\n",
    "new_tensor2 = tensor.view(2, -1)\n",
    "print(new_tensor1.shape, new_tensor2.shape)"
   ]
  },
  {
   "cell_type": "markdown",
   "metadata": {
    "colab_type": "text",
    "id": "cCt37k99g2nm"
   },
   "source": [
    "If you want to copy all data for real, that is, duplicate it in memory, you should use either its [**new_tensor()**](https://pytorch.org/docs/stable/generated/torch.Tensor.new_tensor.html#torch.Tensor.new_tensor) or [**clone()**](https://pytorch.org/docs/stable/generated/torch.clone.html#torch.clone) methods."
   ]
  },
  {
   "cell_type": "markdown",
   "metadata": {
    "colab_type": "text",
    "id": "q67_KSCSAAT1"
   },
   "source": [
    "### Loading Data, Devices and CUDA"
   ]
  },
  {
   "cell_type": "markdown",
   "metadata": {
    "colab_type": "text",
    "id": "OfRQIc19AEYA"
   },
   "source": [
    "”*How do we go from Numpy’s arrays to PyTorch’s tensors*”, you ask? \n",
    "\n",
    "That’s what [**as_tensor()**](https://bit.ly/3fa9hjy) is good for. It returns a **CPU tensor**, though.\n",
    "\n",
    "You can also easily **cast** it to a lower precision (32-bit float) using [**float()**](https://pytorch.org/docs/stable/generated/torch.Tensor.float.html#torch.Tensor.float)."
   ]
  },
  {
   "cell_type": "code",
   "execution_count": 12,
   "metadata": {
    "colab": {
     "base_uri": "https://localhost:8080/",
     "height": 34
    },
    "colab_type": "code",
    "id": "fgIjFB6gBUuz",
    "outputId": "24ef9c69-e450-4d3b-f6a1-9334627cee3c"
   },
   "outputs": [
    {
     "name": "stdout",
     "output_type": "stream",
     "text": [
      "<class 'numpy.ndarray'> <class 'torch.Tensor'>\n"
     ]
    }
   ],
   "source": [
    "# Our data was in Numpy arrays, but we need to transform them into PyTorch's Tensors\n",
    "x_train_tensor = torch.as_tensor(x_train).float()\n",
    "y_train_tensor = torch.as_tensor(y_train).float()\n",
    "\n",
    "print(type(x_train), type(x_train_tensor))"
   ]
  },
  {
   "cell_type": "markdown",
   "metadata": {
    "colab_type": "text",
    "id": "hux68h4oCFt4"
   },
   "source": [
    "“*But I want to use my fancy GPU…*”, you say.\n",
    "\n",
    "No worries, that’s what [**to()**](https://pytorch.org/docs/stable/generated/torch.Tensor.to.html#torch.Tensor.to) is good for. It sends your tensor to whatever **device** you specify, including your **GPU** (referred to as `cuda` or `cuda:0`).\n",
    "\n",
    "“*What if I want my code to fallback to CPU if no GPU is available?*”, you may be wondering… \n",
    "\n",
    "PyTorch got your back once more — you can use [**cuda.is_available()**](https://bit.ly/2ZZfOJL) to find out if you have a GPU at your disposal and set your device accordingly."
   ]
  },
  {
   "cell_type": "code",
   "execution_count": 13,
   "metadata": {
    "colab": {
     "base_uri": "https://localhost:8080/",
     "height": 34
    },
    "colab_type": "code",
    "id": "Q5qlPSxvCGKf",
    "outputId": "cdc313ee-ec97-46b7-99bc-0c757973beb0"
   },
   "outputs": [
    {
     "name": "stdout",
     "output_type": "stream",
     "text": [
      "<class 'numpy.ndarray'> <class 'torch.Tensor'>\n"
     ]
    }
   ],
   "source": [
    "device = 'cuda' if torch.cuda.is_available() else 'cpu'\n",
    "\n",
    "# Our data was in Numpy arrays, but we need to transform them into PyTorch's Tensors\n",
    "x_train_tensor = torch.as_tensor(x_train).float().to(device)\n",
    "y_train_tensor = torch.as_tensor(y_train).float().to(device)\n",
    "\n",
    "print(type(x_train), type(x_train_tensor))"
   ]
  },
  {
   "cell_type": "markdown",
   "metadata": {
    "colab_type": "text",
    "id": "4lsYIvjQDE7O"
   },
   "source": [
    "If you compare the **types** of both variables, you’ll get what you’d expect: `numpy.ndarray` for the first one and `torch.Tensor` for the second one.\n",
    "\n",
    "But where does your nice tensor “live”? In your CPU or your GPU? You can’t say… but if you use PyTorch’s **type()**, it will reveal its **location** — `torch.cuda.FloatTensor` — a GPU tensor in this case."
   ]
  },
  {
   "cell_type": "code",
   "execution_count": 14,
   "metadata": {
    "colab": {
     "base_uri": "https://localhost:8080/",
     "height": 34
    },
    "colab_type": "code",
    "id": "QbECiJmaC8nt",
    "outputId": "957b59fe-5c8d-4cdc-f5b8-f1f871c27c87"
   },
   "outputs": [
    {
     "name": "stdout",
     "output_type": "stream",
     "text": [
      "torch.cuda.FloatTensor\n"
     ]
    }
   ],
   "source": [
    "print(x_train_tensor.type())"
   ]
  },
  {
   "cell_type": "markdown",
   "metadata": {
    "colab_type": "text",
    "id": "XF0MnXHYDRF4"
   },
   "source": [
    "We can also go the other way around, turning tensors back into Numpy arrays, using [**numpy()**](https://pytorch.org/docs/stable/generated/torch.Tensor.numpy.html#torch.Tensor.numpy). It should be easy as `x_train_tensor.numpy()` but…"
   ]
  },
  {
   "cell_type": "code",
   "execution_count": 15,
   "metadata": {
    "colab": {
     "base_uri": "https://localhost:8080/",
     "height": 167
    },
    "colab_type": "code",
    "id": "x1uCOtZvDdT0",
    "outputId": "cd027659-6872-420b-cf5c-b7125f727edd"
   },
   "outputs": [
    {
     "ename": "TypeError",
     "evalue": "can't convert cuda:0 device type tensor to numpy. Use Tensor.cpu() to copy the tensor to host memory first.",
     "output_type": "error",
     "traceback": [
      "\u001b[0;31m---------------------------------------------------------------------------\u001b[0m",
      "\u001b[0;31mTypeError\u001b[0m                                 Traceback (most recent call last)",
      "Input \u001b[0;32mIn [15]\u001b[0m, in \u001b[0;36m<cell line: 1>\u001b[0;34m()\u001b[0m\n\u001b[0;32m----> 1\u001b[0m \u001b[43mx_train_tensor\u001b[49m\u001b[38;5;241;43m.\u001b[39;49m\u001b[43mnumpy\u001b[49m\u001b[43m(\u001b[49m\u001b[43m)\u001b[49m\n",
      "\u001b[0;31mTypeError\u001b[0m: can't convert cuda:0 device type tensor to numpy. Use Tensor.cpu() to copy the tensor to host memory first."
     ]
    }
   ],
   "source": [
    "x_train_tensor.numpy()"
   ]
  },
  {
   "cell_type": "markdown",
   "metadata": {
    "colab_type": "text",
    "id": "dNKoo-n0DlUP"
   },
   "source": [
    "Unfortunately, Numpy **cannot** handle GPU tensors… you need to make them CPU tensors first using [**cpu()**](https://bit.ly/2OSC1Th)."
   ]
  },
  {
   "cell_type": "code",
   "execution_count": null,
   "metadata": {
    "colab": {
     "base_uri": "https://localhost:8080/",
     "height": 1000
    },
    "colab_type": "code",
    "id": "ouRBUpRaDfUG",
    "outputId": "25379c5c-f648-4bfa-de50-e0ab21dbd938"
   },
   "outputs": [],
   "source": [
    "x_train_tensor.cpu().numpy()"
   ]
  },
  {
   "cell_type": "markdown",
   "metadata": {
    "colab_type": "text",
    "id": "1pYm2AqND-_T"
   },
   "source": [
    "### Creating Tensor for Parameters"
   ]
  },
  {
   "cell_type": "markdown",
   "metadata": {
    "colab_type": "text",
    "id": "fCT2YOYjEGJ_"
   },
   "source": [
    "What distinguishes a *tensor* used for *data* — like the ones we’ve just created — from a **tensor** used as a (*trainable*) **parameter/weight**?\n",
    "\n",
    "The latter tensors require the **computation of its gradients**, so we can **update** their values (the parameters’ values, that is). That’s what the **`requires_grad=True`** argument is good for. It tells PyTorch we want it to compute gradients for us.\n",
    "\n",
    "---\n",
    "\n",
    "<h2><b><i>A tensor for a learnable parameter requires gradient!</i></b></h2>\n",
    "\n",
    "---\n",
    "\n",
    "You may be tempted to create a simple tensor for a parameter and, later on, send it to your chosen device, as we did with our data, right?\n",
    "\n",
    "Actually, you should **assign** tensors to a **device** at the moment of their **creation** to avoid unexpected behaviors..."
   ]
  },
  {
   "cell_type": "code",
   "execution_count": 16,
   "metadata": {
    "colab": {
     "base_uri": "https://localhost:8080/",
     "height": 34
    },
    "colab_type": "code",
    "id": "vb866lTxiTiA",
    "outputId": "82d08dde-6858-4f8e-a9ea-4556488e0a94"
   },
   "outputs": [
    {
     "name": "stdout",
     "output_type": "stream",
     "text": [
      "tensor([0.7165], device='cuda:0', requires_grad=True) tensor([-0.9594], device='cuda:0', requires_grad=True)\n"
     ]
    }
   ],
   "source": [
    "# We can specify the device at the moment of creation - RECOMMENDED!\n",
    "b = torch.randn(1, requires_grad=True, dtype=torch.float, device=device)\n",
    "w = torch.randn(1, requires_grad=True, dtype=torch.float, device=device)\n",
    "print(b, w)"
   ]
  },
  {
   "cell_type": "markdown",
   "metadata": {
    "colab_type": "text",
    "id": "DGp27LxNi5ZL"
   },
   "source": [
    "Now that we know how to create tensors that require gradients, we'll see how PyTorch handles them — that’s the role of PyTorch's Autograd. But, first..."
   ]
  },
  {
   "cell_type": "markdown",
   "metadata": {},
   "source": [
    "## Quiz"
   ]
  },
  {
   "cell_type": "code",
   "execution_count": 17,
   "metadata": {
    "scrolled": false
   },
   "outputs": [
    {
     "name": "stdout",
     "output_type": "stream",
     "text": [
      "\n"
     ]
    },
    {
     "data": {
      "text/html": [
       "<div id=\"TBGDfRwPzbpv\" data-shufflequestions=\"False\"\n",
       "               data-shuffleanswers=\"True\"\n",
       "               data-numquestions=\"1000000\"> <style>:root {\n",
       "    --medium-slate-blue: #6f78ffff;\n",
       "    --orange-pantone: #f75c03ff;\n",
       "    --russian-violet: #392061ff;\n",
       "    --maximum-yellow-red: #ffc857ff;\n",
       "    --viridian-green: #119da4ff;\n",
       "    --incorrect-red: #c80202;\n",
       "    --correct-green: #009113;\n",
       "}\n",
       "\n",
       ".Quiz {\n",
       "    max-width: 800px;\n",
       "    margin-top: 15px;\n",
       "    margin-left: auto;\n",
       "    margin-right: auto;\n",
       "    margin-bottom: 15px;\n",
       "    padding-bottom: 4px;\n",
       "    padding-top: 4px;\n",
       "    line-height: 1.1;\n",
       "    font-size: 16pt;\n",
       "}\n",
       "\n",
       ".QuizCode {\n",
       "    font-size: 14pt;\n",
       "    margin-top: 10px;\n",
       "    margin-left: 20px;\n",
       "    margin-right: 20px;\n",
       "}\n",
       "\n",
       ".QuizCode>pre {\n",
       "    padding: 4px;\n",
       "}\n",
       "\n",
       ".QuizImage img {\n",
       "    padding:  10px;\n",
       "}\n",
       "\n",
       ".Answer {\n",
       "    margin: 10px 0;\n",
       "    display: block;\n",
       "    grid-template-columns: auto auto;\n",
       "    grid-gap: 10px;\n",
       "}\n",
       "\n",
       ".Feedback {\n",
       "    font-size: 16pt;\n",
       "    text-align: left;\n",
       "    min-height: 2em;\n",
       "}\n",
       "\n",
       ".Input {\n",
       "    align: left;\n",
       "    font-size: 20pt;\n",
       "}\n",
       "\n",
       ".Input-text {\n",
       "    display: block;\n",
       "    margin: 10px;\n",
       "    color: inherit;\n",
       "    width: 140px;\n",
       "    background-color: #c0c0c0;\n",
       "    color: #fff;\n",
       "    padding: 5px;\n",
       "    padding-left: 10px;\n",
       "    font-family: inherit;\n",
       "    font-size: 20px;\n",
       "    font-weight: inherit;\n",
       "    line-height: 20pt;\n",
       "    border: none;\n",
       "    border-radius: 0.2rem;\n",
       "    transition: box-shadow 0.1s);\n",
       "}\n",
       "\n",
       ".Input-text:focus {\n",
       "    outline: none;\n",
       "    background-color: #c0c0c0;\n",
       "    box-shadow: 0.6rem 0.8rem 1.4rem -0.5rem #999999;\n",
       "}\n",
       "\n",
       ".MCButton {\n",
       "    background: #fafafa;\n",
       "    border: 1px solid #eee;\n",
       "    border-radius: 10px;\n",
       "    padding: 15px;\n",
       "    font-size: 16px;\n",
       "    cursor: pointer;\n",
       "    text-align: left;\n",
       "    display: block;\n",
       "}\n",
       "\n",
       ".MCButton p {\n",
       "    color: inherit;\n",
       "}\n",
       "\n",
       ".MCButton code {\n",
       "    background-color:  inherit;\n",
       "}\n",
       "\n",
       ".MCButton.correctButton code {\n",
       "    color:  white;\n",
       "}\n",
       "\n",
       ".MCButton.incorrectButton code {\n",
       "    color:  white;\n",
       "}\n",
       "\n",
       ".MultipleChoiceQn .QuizCode {\n",
       "    margin-bottom:  10px;\n",
       "    border:  1px solid #eee;\n",
       "    padding:  5px;\n",
       "}\n",
       "\n",
       ".MultipleChoiceQn code {\n",
       "    background-color: inherit;\n",
       "    color:  white;\n",
       "}\n",
       "\n",
       ".MultipleChoiceQn {\n",
       "    padding: 10px;\n",
       "    background: var(--medium-slate-blue);\n",
       "    color: #fafafa;\n",
       "    border-radius: 10px;\n",
       "}\n",
       "\n",
       ".ManyChoiceQn {\n",
       "    padding: 10px;\n",
       "    background: var(--orange-pantone);\n",
       "    color: #fafafa;\n",
       "    border-radius: 10px;\n",
       "}\n",
       "\n",
       ".NumericQn {\n",
       "    padding: 10px;\n",
       "    background: var(--russian-violet);\n",
       "    color: #fafafa;\n",
       "    border-radius: 10px;\n",
       "}\n",
       "\n",
       ".NumericQn p {\n",
       "    color: inherit;\n",
       "}\n",
       "\n",
       ".InpLabel {\n",
       "    line-height: 34px;\n",
       "    float: left;\n",
       "    margin-right: 10px;\n",
       "    color: #101010;\n",
       "    font-size: 15pt;\n",
       "}\n",
       "\n",
       ".incorrect {\n",
       "    color: var(--incorrect-red);\n",
       "}\n",
       "\n",
       ".correct {\n",
       "    color: var(--correct-green);\n",
       "}\n",
       "\n",
       ".correctButton {\n",
       "    /*\n",
       "    background: var(--correct-green);\n",
       "   */\n",
       "    animation: correct-anim 0.6s ease;\n",
       "    animation-fill-mode: forwards;\n",
       "    color: #fafafa;\n",
       "    box-shadow: inset 0px 0px 5px #555555;\n",
       "    outline: none;\n",
       "}\n",
       "\n",
       ".incorrectButton {\n",
       "    animation: incorrect-anim 0.8s ease;\n",
       "    animation-fill-mode: forwards;\n",
       "    color: #fafafa;\n",
       "    box-shadow: inset 0px 0px 5px #555555;\n",
       "    outline: none;\n",
       "}\n",
       "\n",
       "@keyframes incorrect-anim {\n",
       "    100% {\n",
       "        background-color: var(--incorrect-red);\n",
       "    }\n",
       "}\n",
       "\n",
       "@keyframes correct-anim {\n",
       "    100% {\n",
       "        background-color: var(--correct-green);\n",
       "    }\n",
       "}</style><script type=\"text/Javascript\">var element=document.getElementById(\"./quiz/quiz1.b64\");\n",
       "            var questions;\n",
       "            try {\n",
       "               questionsTBGDfRwPzbpv=JSON.parse(window.atob('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'));\n",
       "            } catch(err) {\n",
       "               console.log(\"Fell into catch\");\n",
       "               questionsTBGDfRwPzbpv = JSON.parse('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');\n",
       "            }\n",
       "            console.log(questionsTBGDfRwPzbpv);;\n",
       "    // Make a random ID\n",
       "function makeid(length) {\n",
       "    var result = [];\n",
       "    var characters = 'ABCDEFGHIJKLMNOPQRSTUVWXYZabcdefghijklmnopqrstuvwxyz';\n",
       "    var charactersLength = characters.length;\n",
       "    for (var i = 0; i < length; i++) {\n",
       "        result.push(characters.charAt(Math.floor(Math.random() * charactersLength)));\n",
       "    }\n",
       "    return result.join('');\n",
       "}\n",
       "\n",
       "// Choose a random subset of an array. Can also be used to shuffle the array\n",
       "function getRandomSubarray(arr, size) {\n",
       "    var shuffled = arr.slice(0), i = arr.length, temp, index;\n",
       "    while (i--) {\n",
       "        index = Math.floor((i + 1) * Math.random());\n",
       "        temp = shuffled[index];\n",
       "        shuffled[index] = shuffled[i];\n",
       "        shuffled[i] = temp;\n",
       "    }\n",
       "    return shuffled.slice(0, size);\n",
       "}\n",
       "function check_mc() {\n",
       "    var id = this.id.split('-')[0];\n",
       "\n",
       "    //console.log(\"In check_mc(), id=\"+id);\n",
       "    //console.log(event.srcElement.id)           \n",
       "    //console.log(event.srcElement.dataset.correct)   \n",
       "    //console.log(event.srcElement.dataset.feedback)\n",
       "\n",
       "    var label = event.srcElement;\n",
       "    console.log(label, label.nodeName);\n",
       "    var depth = 0;\n",
       "    while ((label.nodeName != \"LABEL\") && (depth < 20)) {\n",
       "        label = label.parentElement;\n",
       "        console.log(depth, label);\n",
       "        depth++;\n",
       "    }\n",
       "\n",
       "\n",
       "\n",
       "    var answers = label.parentElement.children;\n",
       "    var ans_div = label.parentElement;\n",
       "\n",
       "    //console.log(answers);\n",
       "\n",
       "    // Split behavior based on multiple choice vs many choice:\n",
       "    var fb = document.getElementById(\"fb\" + id);\n",
       "    //console.log(id, \", got numcorrect=\",fb.dataset.numcorrect);\n",
       "    if (fb.dataset.numcorrect == 1) {\n",
       "        for (var i = 0; i < answers.length; i++) {\n",
       "            var child = answers[i];\n",
       "            //console.log(child);\n",
       "            child.className = \"MCButton\";\n",
       "        }\n",
       "\n",
       "\n",
       "        var feedback = \"\";\n",
       "        if (\"feedback\" in label.dataset) {\n",
       "            feedback = jaxify(label.dataset.feedback);\n",
       "        }\n",
       "\n",
       "\n",
       "        if (label.dataset.correct == \"true\") {\n",
       "            // console.log(\"Correct action\");\n",
       "            if (feedback.length == 0) {\n",
       "                feedback = \"Correct!\";\n",
       "            }\n",
       "            label.classList.add(\"correctButton\");\n",
       "\n",
       "            fb.className = \"Feedback\";\n",
       "            fb.classList.add(\"correct\");\n",
       "            if (ans_div.hasAttribute('data-feedback')) {\n",
       "                feedback = jaxify(ans_div.getAttribute('data-feedback'));\n",
       "            };\n",
       "        } else {\n",
       "            if (feedback.length == 0) {\n",
       "                if (!ans_div.hasAttribute('data-feedback')) {\n",
       "                    feedback = \"Incorrect -- try again.\";\n",
       "                }\n",
       "            }            \n",
       "            //console.log(\"Error action\");\n",
       "            label.classList.add(\"incorrectButton\");\n",
       "            fb.className = \"Feedback\";\n",
       "            fb.classList.add(\"incorrect\");\n",
       "        }\n",
       "        fb.textContent = feedback;\n",
       "    }\n",
       "    else {\n",
       "        var reset = false;\n",
       "        var feedback;\n",
       "        if (label.dataset.correct == \"true\") {\n",
       "            if (\"feedback\" in label.dataset) {\n",
       "                feedback = jaxify(label.dataset.feedback);\n",
       "            } else {\n",
       "                feedback = \"Correct!\";\n",
       "            }\n",
       "            if (label.dataset.answered <= 0) {\n",
       "                if (fb.dataset.answeredcorrect < 0) {\n",
       "                    fb.dataset.answeredcorrect = 1;\n",
       "                    reset = true;\n",
       "                } else {\n",
       "                    fb.dataset.answeredcorrect++;\n",
       "                }\n",
       "                if (reset) {\n",
       "                    for (var i = 0; i < answers.length; i++) {\n",
       "                        var child = answers[i];\n",
       "                        child.className = \"MCButton\";\n",
       "                        child.dataset.answered = 0;\n",
       "                    }\n",
       "                }\n",
       "                label.classList.add(\"correctButton\");\n",
       "                label.dataset.answered = 1;\n",
       "                fb.className = \"Feedback\";\n",
       "                fb.classList.add(\"correct\");\n",
       "\n",
       "            }\n",
       "        } else {\n",
       "            if (\"feedback\" in label.dataset) {\n",
       "                feedback = jaxify(label.dataset.feedback);\n",
       "            } else {\n",
       "                feedback = \"Incorrect -- try again.\";\n",
       "            }\n",
       "            if (fb.dataset.answeredcorrect > 0) {\n",
       "                fb.dataset.answeredcorrect = -1;\n",
       "                reset = true;\n",
       "            } else {\n",
       "                fb.dataset.answeredcorrect--;\n",
       "            }\n",
       "\n",
       "            if (reset) {\n",
       "                for (var i = 0; i < answers.length; i++) {\n",
       "                    var child = answers[i];\n",
       "                    child.className = \"MCButton\";\n",
       "                    child.dataset.answered = 0;\n",
       "                }\n",
       "            }\n",
       "            label.classList.add(\"incorrectButton\");\n",
       "            fb.className = \"Feedback\";\n",
       "            fb.classList.add(\"incorrect\");\n",
       "        }\n",
       "\n",
       "\n",
       "        var numcorrect = fb.dataset.numcorrect;\n",
       "        var answeredcorrect = fb.dataset.answeredcorrect;\n",
       "        /*if (answeredcorrect >= 0) {\n",
       "            fb.textContent = feedback + \" [\" + answeredcorrect + \"/\" + numcorrect + \"]\";\n",
       "        } else {\n",
       "            fb.textContent = feedback + \" [\" + 0 + \"/\" + numcorrect + \"]\";\n",
       "        }*/\n",
       "        if (numcorrect == answeredcorrect) {\n",
       "            if (ans_div.hasAttribute('data-feedback')) {\n",
       "                feedback = ans_div.getAttribute('data-feedback');\n",
       "            };            \n",
       "            fb.textContent = feedback;\n",
       "        } else {\n",
       "            fb.textContent = \"\";\n",
       "        }\n",
       "\n",
       "    }\n",
       "\n",
       "    if (typeof MathJax != 'undefined') {\n",
       "        var version = MathJax.version;\n",
       "        console.log('MathJax version', version);\n",
       "        if (version[0] == \"2\") {\n",
       "            MathJax.Hub.Queue([\"Typeset\", MathJax.Hub]);\n",
       "        } else if (version[0] == \"3\") {\n",
       "            MathJax.typeset([fb]);\n",
       "        }\n",
       "    } else {\n",
       "        console.log('MathJax not detected');\n",
       "    }\n",
       "\n",
       "}\n",
       "\n",
       "function make_mc(qa, shuffle_answers, outerqDiv, qDiv, aDiv, id) {\n",
       "    var shuffled;\n",
       "    if (shuffle_answers == \"True\") {\n",
       "        //console.log(shuffle_answers+\" read as true\");\n",
       "        shuffled = getRandomSubarray(qa.answers, qa.answers.length);\n",
       "    } else {\n",
       "        //console.log(shuffle_answers+\" read as false\");\n",
       "        shuffled = qa.answers;\n",
       "    }\n",
       "\n",
       "\n",
       "    var num_correct = 0;\n",
       "\n",
       "    if (\"feedback\" in qa) {\n",
       "        aDiv.setAttribute('data-feedback', qa.feedback);\n",
       "    }\n",
       "\n",
       "    shuffled.forEach((item, index, ans_array) => {\n",
       "        //console.log(answer);\n",
       "\n",
       "        // Make input element\n",
       "        var inp = document.createElement(\"input\");\n",
       "        inp.type = \"radio\";\n",
       "        inp.id = \"quizo\" + id + index;\n",
       "        inp.style = \"display:none;\";\n",
       "        aDiv.append(inp);\n",
       "\n",
       "        //Make label for input element\n",
       "        var lab = document.createElement(\"label\");\n",
       "        lab.className = \"MCButton\";\n",
       "        lab.id = id + '-' + index;\n",
       "        lab.onclick = check_mc;\n",
       "        var aSpan = document.createElement('span');\n",
       "        aSpan.classsName = \"\";\n",
       "        //qDiv.id=\"quizQn\"+id+index;\n",
       "        if (\"answer\" in item) {\n",
       "            aSpan.innerHTML = jaxify(item.answer);\n",
       "            //aSpan.innerHTML=item.answer;\n",
       "        }\n",
       "        lab.append(aSpan);\n",
       "\n",
       "        // Create div for code inside question\n",
       "        var codeSpan;\n",
       "        if (\"code\" in item) {\n",
       "            codeSpan = document.createElement('span');\n",
       "            codeSpan.id = \"code\" + id + index;\n",
       "            codeSpan.className = \"QuizCode\";\n",
       "            //var codePre = document.createElement('pre');\n",
       "            //codeSpan.append(codePre);\n",
       "            var codeCode = document.createElement('code');\n",
       "            //codePre.append(codeCode);\n",
       "            codeSpan.append(codeCode);\n",
       "            codeCode.innerHTML = item.code;\n",
       "            lab.append(codeSpan);\n",
       "            //console.log(codeSpan);\n",
       "        }\n",
       "\n",
       "        // Create div for code inside question\n",
       "        var imageSpan;\n",
       "        if (\"image\" in item) {\n",
       "            imageSpan = document.createElement('span');\n",
       "            imageSpan.id = \"image\" + id + index;\n",
       "            imageSpan.className = \"QuizImage\";\n",
       "            var image = document.createElement('img');\n",
       "            imageSpan.append(image);\n",
       "            Object.keys(item.image).forEach(el => image.setAttribute(el, item.image[el]));\n",
       "            lab.append(imageSpan);\n",
       "        }\n",
       "\n",
       "        //lab.textContent=item.answer;\n",
       "\n",
       "        // Set the data attributes for the answer\n",
       "        lab.setAttribute('data-correct', item.correct);\n",
       "        if (item.correct) {\n",
       "            num_correct++;\n",
       "        }\n",
       "        if (\"feedback\" in item) {\n",
       "            lab.setAttribute('data-feedback', item.feedback);\n",
       "        }\n",
       "        lab.setAttribute('data-answered', 0);\n",
       "\n",
       "        aDiv.append(lab);\n",
       "\n",
       "    });\n",
       "\n",
       "    if (num_correct > 1) {\n",
       "        outerqDiv.className = \"ManyChoiceQn\";\n",
       "    } else {\n",
       "        outerqDiv.className = \"MultipleChoiceQn\";\n",
       "    }\n",
       "\n",
       "    return num_correct;\n",
       "\n",
       "}\n",
       "function check_numeric(ths, event) {\n",
       "\n",
       "    if (event.keyCode === 13) {\n",
       "        ths.blur();\n",
       "\n",
       "        var id = ths.id.split('-')[0];\n",
       "\n",
       "        var submission = ths.value;\n",
       "        if (submission.indexOf('/') != -1) {\n",
       "            sub_parts = submission.split('/');\n",
       "            //console.log(sub_parts);\n",
       "            submission = sub_parts[0] / sub_parts[1];\n",
       "        }\n",
       "        //console.log(\"Reader entered\", submission);\n",
       "\n",
       "        if (\"precision\" in ths.dataset) {\n",
       "            precision = ths.dataset.precision;\n",
       "            // console.log(\"1:\", submission)\n",
       "            submission = Math.round((1 * submission + Number.EPSILON) * 10 ** precision) / 10 ** precision;\n",
       "            // console.log(\"Rounded to \", submission, \" precision=\", precision  );\n",
       "        }\n",
       "\n",
       "\n",
       "        //console.log(\"In check_numeric(), id=\"+id);\n",
       "        //console.log(event.srcElement.id)           \n",
       "        //console.log(event.srcElement.dataset.feedback)\n",
       "\n",
       "        var fb = document.getElementById(\"fb\" + id);\n",
       "        fb.style.display = \"none\";\n",
       "        fb.textContent = \"Incorrect -- try again.\";\n",
       "\n",
       "        answers = JSON.parse(ths.dataset.answers);\n",
       "        //console.log(answers);\n",
       "\n",
       "        var defaultFB = \"\";\n",
       "        var correct;\n",
       "        var done = false;\n",
       "        answers.every(answer => {\n",
       "            //console.log(answer.type);\n",
       "\n",
       "            correct = false;\n",
       "            // if (answer.type==\"value\"){\n",
       "            if ('value' in answer) {\n",
       "                if (submission == answer.value) {\n",
       "                    fb.textContent = jaxify(answer.feedback);\n",
       "                    correct = answer.correct;\n",
       "                    //console.log(answer.correct);\n",
       "                    done = true;\n",
       "                }\n",
       "                // } else if (answer.type==\"range\") {\n",
       "            } else if ('range' in answer) {\n",
       "                //console.log(answer.range);\n",
       "                if ((submission >= answer.range[0]) && (submission < answer.range[1])) {\n",
       "                    fb.textContent = jaxify(answer.feedback);\n",
       "                    correct = answer.correct;\n",
       "                    //console.log(answer.correct);\n",
       "                    done = true;\n",
       "                }\n",
       "            } else if (answer.type == \"default\") {\n",
       "                defaultFB = answer.feedback;\n",
       "            }\n",
       "            if (done) {\n",
       "                return false; // Break out of loop if this has been marked correct\n",
       "            } else {\n",
       "                return true; // Keep looking for case that includes this as a correct answer\n",
       "            }\n",
       "        });\n",
       "\n",
       "        if ((!done) && (defaultFB != \"\")) {\n",
       "            fb.innerHTML = jaxify(defaultFB);\n",
       "            //console.log(\"Default feedback\", defaultFB);\n",
       "        }\n",
       "\n",
       "        fb.style.display = \"block\";\n",
       "        if (correct) {\n",
       "            ths.className = \"Input-text\";\n",
       "            ths.classList.add(\"correctButton\");\n",
       "            fb.className = \"Feedback\";\n",
       "            fb.classList.add(\"correct\");\n",
       "        } else {\n",
       "            ths.className = \"Input-text\";\n",
       "            ths.classList.add(\"incorrectButton\");\n",
       "            fb.className = \"Feedback\";\n",
       "            fb.classList.add(\"incorrect\");\n",
       "        }\n",
       "        if (typeof MathJax != 'undefined') {\n",
       "            var version = MathJax.version;\n",
       "            console.log('MathJax version', version);\n",
       "            if (version[0] == \"2\") {\n",
       "                MathJax.Hub.Queue([\"Typeset\", MathJax.Hub]);\n",
       "            } else if (version[0] == \"3\") {\n",
       "                MathJax.typeset([fb]);\n",
       "            }\n",
       "        } else {\n",
       "            console.log('MathJax not detected');\n",
       "        }\n",
       "        return false;\n",
       "    }\n",
       "\n",
       "}\n",
       "\n",
       "function isValid(el, charC) {\n",
       "    //console.log(\"Input char: \", charC);\n",
       "    if (charC == 46) {\n",
       "        if (el.value.indexOf('.') === -1) {\n",
       "            return true;\n",
       "        } else if (el.value.indexOf('/') != -1) {\n",
       "            parts = el.value.split('/');\n",
       "            if (parts[1].indexOf('.') === -1) {\n",
       "                return true;\n",
       "            }\n",
       "        }\n",
       "        else {\n",
       "            return false;\n",
       "        }\n",
       "    } else if (charC == 47) {\n",
       "        if (el.value.indexOf('/') === -1) {\n",
       "            if ((el.value != \"\") && (el.value != \".\")) {\n",
       "                return true;\n",
       "            } else {\n",
       "                return false;\n",
       "            }\n",
       "        } else {\n",
       "            return false;\n",
       "        }\n",
       "    } else if (charC == 45) {\n",
       "        edex = el.value.indexOf('e');\n",
       "        if (edex == -1) {\n",
       "            edex = el.value.indexOf('E');\n",
       "        }\n",
       "\n",
       "        if (el.value == \"\") {\n",
       "            return true;\n",
       "        } else if (edex == (el.value.length - 1)) { // If just after e or E\n",
       "            return true;\n",
       "        } else {\n",
       "            return false;\n",
       "        }\n",
       "    } else if (charC == 101) { // \"e\"\n",
       "        if ((el.value.indexOf('e') === -1) && (el.value.indexOf('E') === -1) && (el.value.indexOf('/') == -1)) {\n",
       "            // Prev symbol must be digit or decimal point:\n",
       "            if (el.value.slice(-1).search(/\\d/) >= 0) {\n",
       "                return true;\n",
       "            } else if (el.value.slice(-1).search(/\\./) >= 0) {\n",
       "                return true;\n",
       "            } else {\n",
       "                return false;\n",
       "            }\n",
       "        } else {\n",
       "            return false;\n",
       "        }\n",
       "    } else {\n",
       "        if (charC > 31 && (charC < 48 || charC > 57))\n",
       "            return false;\n",
       "    }\n",
       "    return true;\n",
       "}\n",
       "\n",
       "function numeric_keypress(evnt) {\n",
       "    var charC = (evnt.which) ? evnt.which : evnt.keyCode;\n",
       "\n",
       "    if (charC == 13) {\n",
       "        check_numeric(this, evnt);\n",
       "    } else {\n",
       "        return isValid(this, charC);\n",
       "    }\n",
       "}\n",
       "\n",
       "\n",
       "\n",
       "\n",
       "\n",
       "function make_numeric(qa, outerqDiv, qDiv, aDiv, id) {\n",
       "\n",
       "\n",
       "\n",
       "    //console.log(answer);\n",
       "\n",
       "\n",
       "    outerqDiv.className = \"NumericQn\";\n",
       "    aDiv.style.display = 'block';\n",
       "\n",
       "    var lab = document.createElement(\"label\");\n",
       "    lab.className = \"InpLabel\";\n",
       "    lab.textContent = \"Type numeric answer here:\";\n",
       "    aDiv.append(lab);\n",
       "\n",
       "    var inp = document.createElement(\"input\");\n",
       "    inp.type = \"text\";\n",
       "    //inp.id=\"input-\"+id;\n",
       "    inp.id = id + \"-0\";\n",
       "    inp.className = \"Input-text\";\n",
       "    inp.setAttribute('data-answers', JSON.stringify(qa.answers));\n",
       "    if (\"precision\" in qa) {\n",
       "        inp.setAttribute('data-precision', qa.precision);\n",
       "    }\n",
       "    aDiv.append(inp);\n",
       "    //console.log(inp);\n",
       "\n",
       "    //inp.addEventListener(\"keypress\", check_numeric);\n",
       "    //inp.addEventListener(\"keypress\", numeric_keypress);\n",
       "    /*\n",
       "    inp.addEventListener(\"keypress\", function(event) {\n",
       "        return numeric_keypress(this, event);\n",
       "    }\n",
       "                        );\n",
       "                        */\n",
       "    //inp.onkeypress=\"return numeric_keypress(this, event)\";\n",
       "    inp.onkeypress = numeric_keypress;\n",
       "    inp.onpaste = event => false;\n",
       "\n",
       "    inp.addEventListener(\"focus\", function (event) {\n",
       "        this.value = \"\";\n",
       "        return false;\n",
       "    }\n",
       "    );\n",
       "\n",
       "\n",
       "}\n",
       "function jaxify(string) {\n",
       "    var mystring = string;\n",
       "\n",
       "    count = 0;\n",
       "    var loc = mystring.search(/([^\\\\]|^)(\\$)/);\n",
       "\n",
       "    count2 = 0;\n",
       "    var loc2 = mystring.search(/([^\\\\]|^)(\\$\\$)/);\n",
       "\n",
       "    //console.log(loc);\n",
       "\n",
       "    while ((loc >= 0) || (loc2 >= 0)) {\n",
       "\n",
       "        /* Have to replace all the double $$ first with current implementation */\n",
       "        if (loc2 >= 0) {\n",
       "            if (count2 % 2 == 0) {\n",
       "                mystring = mystring.replace(/([^\\\\]|^)(\\$\\$)/, \"$1\\\\[\");\n",
       "            } else {\n",
       "                mystring = mystring.replace(/([^\\\\]|^)(\\$\\$)/, \"$1\\\\]\");\n",
       "            }\n",
       "            count2++;\n",
       "        } else {\n",
       "            if (count % 2 == 0) {\n",
       "                mystring = mystring.replace(/([^\\\\]|^)(\\$)/, \"$1\\\\(\");\n",
       "            } else {\n",
       "                mystring = mystring.replace(/([^\\\\]|^)(\\$)/, \"$1\\\\)\");\n",
       "            }\n",
       "            count++;\n",
       "        }\n",
       "        loc = mystring.search(/([^\\\\]|^)(\\$)/);\n",
       "        loc2 = mystring.search(/([^\\\\]|^)(\\$\\$)/);\n",
       "        //console.log(mystring,\", loc:\",loc,\", loc2:\",loc2);\n",
       "    }\n",
       "\n",
       "    //console.log(mystring);\n",
       "    return mystring;\n",
       "}\n",
       "\n",
       "\n",
       "function show_questions(json, mydiv) {\n",
       "    //var mydiv=document.getElementById(myid);\n",
       "    var shuffle_questions = mydiv.dataset.shufflequestions;\n",
       "    var num_questions = mydiv.dataset.numquestions;\n",
       "    var shuffle_answers = mydiv.dataset.shuffleanswers;\n",
       "\n",
       "    if (num_questions > json.length) {\n",
       "        num_questions = json.length;\n",
       "    }\n",
       "\n",
       "    var questions;\n",
       "    if ((num_questions < json.length) || (shuffle_questions == \"True\")) {\n",
       "        //console.log(num_questions+\",\"+json.length);\n",
       "        questions = getRandomSubarray(json, num_questions);\n",
       "    } else {\n",
       "        questions = json;\n",
       "    }\n",
       "\n",
       "    //console.log(\"SQ: \"+shuffle_questions+\", NQ: \" + num_questions + \", SA: \", shuffle_answers);\n",
       "\n",
       "    // Iterate over questions\n",
       "    questions.forEach((qa, index, array) => {\n",
       "        //console.log(qa.question); \n",
       "\n",
       "        var id = makeid(8);\n",
       "        //console.log(id);\n",
       "\n",
       "\n",
       "        // Create Div to contain question and answers\n",
       "        var iDiv = document.createElement('div');\n",
       "        iDiv.id = 'quizWrap' + id + index;\n",
       "        iDiv.className = 'Quiz';\n",
       "        mydiv.appendChild(iDiv);\n",
       "        // iDiv.innerHTML=qa.question;\n",
       "\n",
       "        var outerqDiv = document.createElement('div');\n",
       "        outerqDiv.id = \"OuterquizQn\" + id + index;\n",
       "        //qDiv.textContent=qa.question;\n",
       "        iDiv.append(outerqDiv);\n",
       "\n",
       "        // Create div to contain question part\n",
       "        var qDiv = document.createElement('div');\n",
       "        qDiv.id = \"quizQn\" + id + index;\n",
       "        //qDiv.textContent=qa.question;\n",
       "        qDiv.innerHTML = jaxify(qa.question);\n",
       "        outerqDiv.append(qDiv);\n",
       "\n",
       "        // Create div for code inside question\n",
       "        var codeDiv;\n",
       "        if (\"code\" in qa) {\n",
       "            codeDiv = document.createElement('div');\n",
       "            codeDiv.id = \"code\" + id + index;\n",
       "            codeDiv.className = \"QuizCode\";\n",
       "            //var codePre = document.createElement('pre');\n",
       "            //codeDiv.append(codePre);\n",
       "            var codeCode = document.createElement('code');\n",
       "            //codePre.append(codeCode);\n",
       "            codeDiv.append(codeCode);\n",
       "            codeCode.innerHTML = qa.code;\n",
       "            outerqDiv.append(codeDiv);\n",
       "            //console.log(codeDiv);\n",
       "        }\n",
       "\n",
       "        // Create div for image inside question\n",
       "        var imgDiv;\n",
       "        if (\"image\" in qa) {\n",
       "            imgDiv = document.createElement('div');\n",
       "            imgDiv.id = \"image\" + id + index;\n",
       "            imgDiv.className = \"QuizImage\";\n",
       "            var image = document.createElement('img');\n",
       "            Object.keys(qa.image).forEach(el => image.setAttribute(el, qa.image[el]));\n",
       "            imgDiv.append(image);\n",
       "            outerqDiv.append(imgDiv);\n",
       "        }\n",
       "\n",
       "\n",
       "        // Create div to contain answer part\n",
       "        var aDiv = document.createElement('div');\n",
       "        aDiv.id = \"quizAns\" + id + index;\n",
       "        aDiv.className = 'Answer';\n",
       "        iDiv.append(aDiv);\n",
       "\n",
       "        //console.log(qa.type);\n",
       "\n",
       "        var num_correct;\n",
       "        if (qa.type == \"multiple_choice\") {\n",
       "            num_correct = make_mc(qa, shuffle_answers, outerqDiv, qDiv, aDiv, id);\n",
       "        } else if (qa.type == \"many_choice\") {\n",
       "            num_correct = make_mc(qa, shuffle_answers, outerqDiv, qDiv, aDiv, id);\n",
       "        } else if (qa.type == \"numeric\") {\n",
       "            //console.log(\"numeric\");\n",
       "            make_numeric(qa, outerqDiv, qDiv, aDiv, id);\n",
       "        }\n",
       "\n",
       "\n",
       "        //Make div for feedback\n",
       "        var fb = document.createElement(\"div\");\n",
       "        fb.id = \"fb\" + id;\n",
       "        //fb.style=\"font-size: 20px;text-align:center;\";\n",
       "        fb.className = \"Feedback\";\n",
       "        fb.setAttribute(\"data-answeredcorrect\", 0);\n",
       "        fb.setAttribute(\"data-numcorrect\", num_correct);\n",
       "        iDiv.append(fb);\n",
       "\n",
       "\n",
       "    });\n",
       "    //console.log(\"At end of show_questions\");\n",
       "    if (typeof MathJax != 'undefined') {\n",
       "        console.log(\"MathJax version\", MathJax.version);\n",
       "        var version = MathJax.version;\n",
       "        setTimeout(function(){\n",
       "            var version = MathJax.version;\n",
       "            console.log('After sleep, MathJax version', version);\n",
       "            if (version[0] == \"2\") {\n",
       "                MathJax.Hub.Queue([\"Typeset\", MathJax.Hub]);\n",
       "            } else if (version[0] == \"3\") {\n",
       "                MathJax.typeset([mydiv]);\n",
       "            }\n",
       "        }, 500);\n",
       "if (typeof version == 'undefined') {\n",
       "        } else\n",
       "        {\n",
       "            if (version[0] == \"2\") {\n",
       "                MathJax.Hub.Queue([\"Typeset\", MathJax.Hub]);\n",
       "            } else if (version[0] == \"3\") {\n",
       "                MathJax.typeset([mydiv]);\n",
       "            } else {\n",
       "                console.log(\"MathJax not found\");\n",
       "            }\n",
       "        }\n",
       "    }\n",
       "    return false;\n",
       "}\n",
       "\n",
       "        {\n",
       "        show_questions(questionsTBGDfRwPzbpv,  TBGDfRwPzbpv);\n",
       "        }\n",
       "        </script>\n",
       "        "
      ],
      "text/plain": [
       "<IPython.core.display.HTML object>"
      ]
     },
     "metadata": {},
     "output_type": "display_data"
    }
   ],
   "source": [
    "display_quiz('#./quiz/quiz1.b64')"
   ]
  },
  {
   "cell_type": "markdown",
   "metadata": {},
   "source": [
    "# Exercise #1"
   ]
  },
  {
   "cell_type": "code",
   "execution_count": null,
   "metadata": {},
   "outputs": [],
   "source": []
  }
 ],
 "metadata": {
  "kernelspec": {
   "display_name": "Python 3",
   "language": "python",
   "name": "python3"
  },
  "language_info": {
   "codemirror_mode": {
    "name": "ipython",
    "version": 3
   },
   "file_extension": ".py",
   "mimetype": "text/x-python",
   "name": "python",
   "nbconvert_exporter": "python",
   "pygments_lexer": "ipython3",
   "version": "3.7.5"
  }
 },
 "nbformat": 4,
 "nbformat_minor": 5
}
