{
 "cells": [
  {
   "cell_type": "code",
   "execution_count": 1,
   "metadata": {
    "scrolled": true
   },
   "outputs": [
    {
     "data": {
      "text/html": [
       "<style>.container { width:90% !important; }.text_cell_render, .output_text {font-family: Lato;font-size: 18px;line-height: 1.5;}.CodeMirror {font-size: 16px;}</style>"
      ],
      "text/plain": [
       "<IPython.core.display.HTML object>"
      ]
     },
     "metadata": {},
     "output_type": "display_data"
    }
   ],
   "source": [
    "from IPython.display import display, HTML\n",
    "display(HTML(\"\"\"<style>.container { width:90% !important; }.text_cell_render, .output_text {font-family: Lato;font-size: 18px;line-height: 1.5;}.CodeMirror {font-size: 16px;}</style>\"\"\"))\n",
    "from quiz.jupyterquiz import display_quiz"
   ]
  },
  {
   "cell_type": "markdown",
   "metadata": {},
   "source": [
    "# Module 3"
   ]
  },
  {
   "cell_type": "markdown",
   "metadata": {
    "colab_type": "text",
    "id": "68GypByGi8RO"
   },
   "source": [
    "## Autograd, your companion for all your gradient needs!"
   ]
  },
  {
   "cell_type": "markdown",
   "metadata": {
    "colab_type": "text",
    "id": "sPV5It5YjAvL"
   },
   "source": [
    "Autograd is PyTorch’s *automatic differentiation package*. Thanks to it, we **don’t need to worry** about partial derivatives, chain rule or anything like it.\n",
    "\n",
    "<h2><b><i>Computing gradients manually?! No way! Backward!</b></i></h2>\n"
   ]
  },
  {
   "cell_type": "markdown",
   "metadata": {
    "colab_type": "text",
    "id": "FLIcMHgVo4CU"
   },
   "source": [
    "### backward"
   ]
  },
  {
   "cell_type": "markdown",
   "metadata": {
    "colab_type": "text",
    "id": "irQuMOgJo6FU"
   },
   "source": [
    "So, how do we tell PyTorch to do its thing and **compute all gradients**? That’s what [**backward()**](https://bit.ly/3eV9Dub) is good for.\n",
    "\n",
    "Do you remember the **starting point** for **computing the gradients**? It was the **loss**, as we computed its partial derivatives w.r.t. our parameters. Hence, we need to invoke the `backward()` method from the corresponding Python variable, like, `loss.backward()`."
   ]
  },
  {
   "cell_type": "code",
   "execution_count": 66,
   "metadata": {
    "colab": {},
    "colab_type": "code",
    "id": "Q7Bi9KWgmuXI"
   },
   "outputs": [],
   "source": [
    "# Step 0\n",
    "torch.manual_seed(42)\n",
    "\n",
    "b = torch.randn(1, requires_grad=True, dtype=torch.float, device=device)\n",
    "w = torch.randn(1, requires_grad=True, dtype=torch.float, device=device)"
   ]
  },
  {
   "cell_type": "code",
   "execution_count": 67,
   "metadata": {
    "colab": {},
    "colab_type": "code",
    "id": "S9OilmlLh9_d"
   },
   "outputs": [],
   "source": [
    "# Step 1\n",
    "# Computes our model's predicted output\n",
    "yhat = b + w * x_train_tensor\n",
    "\n",
    "# Step 2    \n",
    "# How wrong is our model? That's the error! \n",
    "error = (yhat - y_train_tensor)\n",
    "# It is a regression, so it computes mean squared error (MSE)\n",
    "loss = (error ** 2).mean()\n",
    "\n",
    "# Step 3    \n",
    "# No more manual computation of gradients! \n",
    "loss.backward()\n",
    "\n",
    "# Computes gradients for both \"b\" and \"w\" parameters\n",
    "# b_grad = 2 * error.mean()\n",
    "# w_grad = 2 * (x_train_tensor * error).mean()"
   ]
  },
  {
   "cell_type": "markdown",
   "metadata": {
    "colab_type": "text",
    "id": "youD0_1Do9_E"
   },
   "source": [
    "### grad / zero_"
   ]
  },
  {
   "cell_type": "markdown",
   "metadata": {
    "colab_type": "text",
    "id": "z2JJ_osngW5H"
   },
   "source": [
    "\n",
    "What about the **actual values** of the **gradients**? We can inspect them by looking at the [**grad**](https://bit.ly/3fYtNFa) **attribute** of a tensor."
   ]
  },
  {
   "cell_type": "code",
   "execution_count": 68,
   "metadata": {
    "colab": {
     "base_uri": "https://localhost:8080/",
     "height": 34
    },
    "colab_type": "code",
    "id": "SM1hYBxlhMoZ",
    "outputId": "06042d01-680b-4746-a270-b31e66e0bc59"
   },
   "outputs": [
    {
     "name": "stdout",
     "output_type": "stream",
     "text": [
      "tensor([-3.3881], device='cuda:0') tensor([-1.9439], device='cuda:0')\n"
     ]
    }
   ],
   "source": [
    "print(b.grad, w.grad)"
   ]
  },
  {
   "cell_type": "markdown",
   "metadata": {
    "colab_type": "text",
    "id": "qJL6O06ChLio"
   },
   "source": [
    "If you check the method’s documentation, it clearly states that **gradients are accumulated**. \n",
    "\n",
    "You can check this out by running the two code cells above again.\n",
    "\n",
    "So, every time we use the **gradients** to **update** the parameters, we need to **zero the gradients afterwards**. And that’s what [**zero_()**](https://pytorch.org/docs/stable/generated/torch.Tensor.zero_.html#torch.Tensor.zero_) is good for.\n",
    "\n",
    "---\n",
    "\n",
    "*In PyTorch, every method that **ends** with an **underscore (_)** makes changes **in-place**, meaning, they will **modify** the underlying variable.*\n",
    "\n",
    "---"
   ]
  },
  {
   "cell_type": "code",
   "execution_count": 69,
   "metadata": {
    "colab": {
     "base_uri": "https://localhost:8080/",
     "height": 34
    },
    "colab_type": "code",
    "id": "3wh62U94i7-o",
    "outputId": "23c746f0-fce0-49ec-f45f-8555b2ac97f5"
   },
   "outputs": [
    {
     "data": {
      "text/plain": [
       "(tensor([0.], device='cuda:0'), tensor([0.], device='cuda:0'))"
      ]
     },
     "execution_count": 69,
     "metadata": {},
     "output_type": "execute_result"
    }
   ],
   "source": [
    "b.grad.zero_(), w.grad.zero_()"
   ]
  },
  {
   "cell_type": "markdown",
   "metadata": {
    "colab_type": "text",
    "id": "5dy5vKAOi8J1"
   },
   "source": [
    "So, let’s **ditch** the **manual computation of gradients** and use both `backward()` and `zero_()` methods instead.\n",
    "\n",
    "And, we are still missing **Step 4**, that is, **updating the parameters**. Let's include it as well..."
   ]
  },
  {
   "cell_type": "code",
   "execution_count": 70,
   "metadata": {
    "colab": {
     "base_uri": "https://localhost:8080/",
     "height": 52
    },
    "colab_type": "code",
    "id": "2GAkYJYniX42",
    "outputId": "b0dd52a6-125a-4287-82ec-f16e382fe59a"
   },
   "outputs": [
    {
     "name": "stdout",
     "output_type": "stream",
     "text": [
      "tensor([-3.3881], device='cuda:0') tensor([-1.9439], device='cuda:0')\n",
      "tensor([0.], device='cuda:0') tensor([0.], device='cuda:0')\n"
     ]
    }
   ],
   "source": [
    "# Step 0\n",
    "torch.manual_seed(42)\n",
    "b = torch.randn(1, requires_grad=True, dtype=torch.float, device=device)\n",
    "w = torch.randn(1, requires_grad=True, dtype=torch.float, device=device)\n",
    "\n",
    "# Step 1\n",
    "# Computes our model's predicted output\n",
    "yhat = b + w * x_train_tensor\n",
    "\n",
    "# Step 2    \n",
    "# How wrong is our model? That's the error! \n",
    "error = (yhat - y_train_tensor)\n",
    "# It is a regression, so it computes mean squared error (MSE)\n",
    "loss = (error ** 2).mean()\n",
    "\n",
    "# Step 3    \n",
    "# No more manual computation of gradients! \n",
    "loss.backward()\n",
    "# Computes gradients for both \"b\" and \"w\" parameters\n",
    "# b_grad = 2 * error.mean()\n",
    "# w_grad = 2 * (x_train_tensor * error).mean()\n",
    "print(b.grad, w.grad)\n",
    "\n",
    "# Step 4\n",
    "# Updates parameters using gradients and the learning rate\n",
    "with torch.no_grad(): # what is that?!\n",
    "    b -= lr * b.grad\n",
    "    w -= lr * w.grad\n",
    "\n",
    "# PyTorch is \"clingy\" to its computed gradients, we need to tell it to let it go...\n",
    "b.grad.zero_()\n",
    "w.grad.zero_()\n",
    "\n",
    "print(b.grad, w.grad)"
   ]
  },
  {
   "cell_type": "markdown",
   "metadata": {
    "colab_type": "text",
    "id": "M-spqiSkpG3_"
   },
   "source": [
    "### no_grad"
   ]
  },
  {
   "cell_type": "markdown",
   "metadata": {
    "colab_type": "text",
    "id": "SIhiT37ApJy3"
   },
   "source": [
    "<h2><b><i>\"One does not simply update parameters without no_grad\"</b></i></h2>\n",
    "\n",
    "Why do we need to use [**no_grad()**](https://bit.ly/39o0nh4) to **update the parameters**?\n",
    "\n",
    "The culprit is PyTorch’s ability to build a **dynamic computation graph** from every **Python operation** that involves any **gradient-computing tensor** or its **dependencies**.\n",
    "\n",
    "---\n",
    "\n",
    "**What is a dynamic computation graph?**\n",
    "\n",
    "Don't worry, we’ll go deeper into the inner workings of the dynamic computation graph in the next section.\n",
    "\n",
    "---\n",
    "\n",
    "So, how do we tell PyTorch to “**back off**” and let us **update our parameters** without messing up with its **fancy dynamic computation graph**? \n",
    "\n",
    "\n",
    "That is the purpose of **no_grad()**: it allows us to **perform regular Python operations on tensors, independent of PyTorch’s computation graph**."
   ]
  },
  {
   "cell_type": "code",
   "execution_count": 71,
   "metadata": {
    "colab": {
     "base_uri": "https://localhost:8080/",
     "height": 34
    },
    "colab_type": "code",
    "id": "rxkh-X1ui9qJ",
    "outputId": "c5d3cc14-a26e-4bcc-b6d1-edde36a28765"
   },
   "outputs": [
    {
     "name": "stdout",
     "output_type": "stream",
     "text": [
      "tensor([1.0235], device='cuda:0', requires_grad=True) tensor([1.9690], device='cuda:0', requires_grad=True)\n"
     ]
    }
   ],
   "source": [
    "lr = 1e-1\n",
    "n_epochs = 1000\n",
    "\n",
    "# Step 0\n",
    "torch.manual_seed(42)\n",
    "b = torch.randn(1, requires_grad=True, dtype=torch.float, device=device)\n",
    "w = torch.randn(1, requires_grad=True, dtype=torch.float, device=device)\n",
    "\n",
    "for epoch in range(n_epochs):\n",
    "    # Step 1\n",
    "    # Computes our model's predicted output\n",
    "    yhat = b + w * x_train_tensor\n",
    "\n",
    "    # Step 2    \n",
    "    # How wrong is our model? That's the error! \n",
    "    error = (yhat - y_train_tensor)\n",
    "    # It is a regression, so it computes mean squared error (MSE)\n",
    "    loss = (error ** 2).mean()\n",
    "\n",
    "    # Step 3    \n",
    "    # No more manual computation of gradients! \n",
    "    loss.backward()\n",
    "\n",
    "    # Step 4\n",
    "    # Updates parameters using gradients and the learning rate\n",
    "    with torch.no_grad():\n",
    "        b -= lr * b.grad\n",
    "        w -= lr * w.grad\n",
    "\n",
    "    # PyTorch is \"clingy\" to its computed gradients, we need to tell it to let it go...\n",
    "    b.grad.zero_()\n",
    "    w.grad.zero_()\n",
    "\n",
    "print(b, w)"
   ]
  },
  {
   "cell_type": "markdown",
   "metadata": {
    "colab_type": "text",
    "id": "Cfde7qBr-dLd"
   },
   "source": [
    "Finally, we managed to successfully run our model and get the **resulting parameters**. Surely enough, they **match** the ones we got in our *Numpy*-only implementation.\n",
    "\n",
    "Let's take a look at the **loss** at the end of the training..."
   ]
  },
  {
   "cell_type": "code",
   "execution_count": 72,
   "metadata": {
    "colab": {
     "base_uri": "https://localhost:8080/",
     "height": 34
    },
    "colab_type": "code",
    "id": "qyrLZ7bm-fu3",
    "outputId": "6e292fe9-409b-4bad-e05e-7308b1385acb"
   },
   "outputs": [
    {
     "data": {
      "text/plain": [
       "tensor(0.0080, device='cuda:0', grad_fn=<MeanBackward0>)"
      ]
     },
     "execution_count": 72,
     "metadata": {},
     "output_type": "execute_result"
    }
   ],
   "source": [
    "loss"
   ]
  },
  {
   "cell_type": "markdown",
   "metadata": {
    "colab_type": "text",
    "id": "shzUgjPH_hqq"
   },
   "source": [
    "What if we wanted to have it as a *Numpy* array? I guess we could just use **numpy()** again, right? (and **cpu()** as well, since our *loss* is in the `cuda` device..."
   ]
  },
  {
   "cell_type": "code",
   "execution_count": 73,
   "metadata": {
    "colab": {
     "base_uri": "https://localhost:8080/",
     "height": 167
    },
    "colab_type": "code",
    "id": "c-fSotmZ_s-9",
    "outputId": "1b52b633-68ab-4077-a4f5-53122695136e"
   },
   "outputs": [
    {
     "ename": "RuntimeError",
     "evalue": "Can't call numpy() on Tensor that requires grad. Use tensor.detach().numpy() instead.",
     "output_type": "error",
     "traceback": [
      "\u001b[0;31m---------------------------------------------------------------------------\u001b[0m",
      "\u001b[0;31mRuntimeError\u001b[0m                              Traceback (most recent call last)",
      "Input \u001b[0;32mIn [73]\u001b[0m, in \u001b[0;36m<cell line: 1>\u001b[0;34m()\u001b[0m\n\u001b[0;32m----> 1\u001b[0m \u001b[43mloss\u001b[49m\u001b[38;5;241;43m.\u001b[39;49m\u001b[43mcpu\u001b[49m\u001b[43m(\u001b[49m\u001b[43m)\u001b[49m\u001b[38;5;241;43m.\u001b[39;49m\u001b[43mnumpy\u001b[49m\u001b[43m(\u001b[49m\u001b[43m)\u001b[49m\n",
      "\u001b[0;31mRuntimeError\u001b[0m: Can't call numpy() on Tensor that requires grad. Use tensor.detach().numpy() instead."
     ]
    }
   ],
   "source": [
    "loss.cpu().numpy()"
   ]
  },
  {
   "cell_type": "markdown",
   "metadata": {
    "colab_type": "text",
    "id": "7Uwg76k-_6CH"
   },
   "source": [
    "What happened here? Unlike our *data tensors*, the **loss tensor** is actually computing gradients - and in order to use **numpy**, we need to [**detach()**](https://pytorch.org/docs/stable/generated/torch.Tensor.detach.html#torch.Tensor.detach) that tensor from the computation graph first:"
   ]
  },
  {
   "cell_type": "code",
   "execution_count": 74,
   "metadata": {
    "colab": {
     "base_uri": "https://localhost:8080/",
     "height": 34
    },
    "colab_type": "code",
    "id": "qWBiGTaLAVfj",
    "outputId": "5372bb61-7f59-4f68-e4bd-f9fdeffd68ef"
   },
   "outputs": [
    {
     "data": {
      "text/plain": [
       "array(0.00804466, dtype=float32)"
      ]
     },
     "execution_count": 74,
     "metadata": {},
     "output_type": "execute_result"
    }
   ],
   "source": [
    "loss.detach().cpu().numpy()"
   ]
  },
  {
   "cell_type": "markdown",
   "metadata": {
    "colab_type": "text",
    "id": "mVvbZu_6AZZU"
   },
   "source": [
    "This seems like **a lot of work**, there must be an easier way! And there is one indeed: we can use [**item()**](https://pytorch.org/docs/stable/generated/torch.Tensor.item.html#torch.Tensor.item), for **tensors with a single element** or [**tolist()**](https://pytorch.org/docs/stable/generated/torch.Tensor.tolist.html#torch.Tensor.tolist) otherwise."
   ]
  },
  {
   "cell_type": "code",
   "execution_count": 75,
   "metadata": {
    "colab": {
     "base_uri": "https://localhost:8080/",
     "height": 34
    },
    "colab_type": "code",
    "id": "PCKOS0RlAx-U",
    "outputId": "fd2bee76-87d3-4b08-d575-d2cb009e4fe5"
   },
   "outputs": [
    {
     "name": "stdout",
     "output_type": "stream",
     "text": [
      "0.008044655434787273 0.008044655434787273\n"
     ]
    }
   ],
   "source": [
    "print(loss.item(), loss.tolist())"
   ]
  },
  {
   "cell_type": "markdown",
   "metadata": {
    "colab_type": "text",
    "id": "mL4F2K3KpadZ"
   },
   "source": [
    "## Dynamic Computation Graph: what is that?"
   ]
  },
  {
   "cell_type": "markdown",
   "metadata": {
    "colab_type": "text",
    "id": "EamDiupxpjSp"
   },
   "source": [
    "<h2><b><i>\"No one can be told what the dynamic computation graph is - you have to see it for yourself\"</b></i></h2>\n",
    "\n",
    "Jokes aside, I want **you** to **see the graph for yourself** too!\n",
    "\n",
    "The [PyTorchViz](https://github.com/szagoruyko/pytorchviz) package and its `make_dot(variable)` method allows us to easily visualize a graph associated with a given Python variable.\n",
    "\n",
    "So, let’s stick with the **bare minimum**: two (gradient computing) **tensors** for our parameters, predictions, errors and loss."
   ]
  },
  {
   "cell_type": "code",
   "execution_count": 76,
   "metadata": {
    "colab": {},
    "colab_type": "code",
    "id": "va5ZPnwdpg0W"
   },
   "outputs": [],
   "source": [
    "torch.manual_seed(42)\n",
    "b = torch.randn(1, requires_grad=True, dtype=torch.float, device=device)\n",
    "w = torch.randn(1, requires_grad=True, dtype=torch.float, device=device)\n",
    "\n",
    "yhat = b + w * x_train_tensor\n",
    "error = yhat - y_train_tensor\n",
    "loss = (error ** 2).mean()"
   ]
  },
  {
   "cell_type": "markdown",
   "metadata": {
    "colab_type": "text",
    "id": "ERIK1XVWqemS"
   },
   "source": [
    "Now let's plot the **computation graph** for the **yhat** variable."
   ]
  },
  {
   "cell_type": "code",
   "execution_count": 77,
   "metadata": {
    "colab": {
     "base_uri": "https://localhost:8080/",
     "height": 249
    },
    "colab_type": "code",
    "id": "eft1ShqTp8_k",
    "outputId": "7c169a26-e2d8-446f-d904-7453bc42c783"
   },
   "outputs": [
    {
     "data": {
      "image/svg+xml": [
       "<?xml version=\"1.0\" encoding=\"UTF-8\" standalone=\"no\"?>\n",
       "<!DOCTYPE svg PUBLIC \"-//W3C//DTD SVG 1.1//EN\"\n",
       " \"http://www.w3.org/Graphics/SVG/1.1/DTD/svg11.dtd\">\n",
       "<!-- Generated by graphviz version 2.40.1 (20161225.0304)\n",
       " -->\n",
       "<!-- Title: %3 Pages: 1 -->\n",
       "<svg width=\"222pt\" height=\"280pt\"\n",
       " viewBox=\"0.00 0.00 222.00 280.00\" xmlns=\"http://www.w3.org/2000/svg\" xmlns:xlink=\"http://www.w3.org/1999/xlink\">\n",
       "<g id=\"graph0\" class=\"graph\" transform=\"scale(1 1) rotate(0) translate(4 276)\">\n",
       "<title>%3</title>\n",
       "<polygon fill=\"#ffffff\" stroke=\"transparent\" points=\"-4,4 -4,-276 218,-276 218,4 -4,4\"/>\n",
       "<!-- 139737368672448 -->\n",
       "<g id=\"node1\" class=\"node\">\n",
       "<title>139737368672448</title>\n",
       "<polygon fill=\"#caff70\" stroke=\"#000000\" points=\"139,-30 74,-30 74,0 139,0 139,-30\"/>\n",
       "<text text-anchor=\"middle\" x=\"106.5\" y=\"-18\" font-family=\"monospace\" font-size=\"10.00\" fill=\"#000000\">yhat</text>\n",
       "<text text-anchor=\"middle\" x=\"106.5\" y=\"-7\" font-family=\"monospace\" font-size=\"10.00\" fill=\"#000000\"> (80, 1)</text>\n",
       "</g>\n",
       "<!-- 139737377481968 -->\n",
       "<g id=\"node2\" class=\"node\">\n",
       "<title>139737377481968</title>\n",
       "<polygon fill=\"#d3d3d3\" stroke=\"#000000\" points=\"151,-85 62,-85 62,-66 151,-66 151,-85\"/>\n",
       "<text text-anchor=\"middle\" x=\"106.5\" y=\"-73\" font-family=\"monospace\" font-size=\"10.00\" fill=\"#000000\">AddBackward0</text>\n",
       "</g>\n",
       "<!-- 139737377481968&#45;&gt;139737368672448 -->\n",
       "<g id=\"edge6\" class=\"edge\">\n",
       "<title>139737377481968&#45;&gt;139737368672448</title>\n",
       "<path fill=\"none\" stroke=\"#000000\" d=\"M106.5,-65.7796C106.5,-58.8654 106.5,-49.2417 106.5,-40.2296\"/>\n",
       "<polygon fill=\"#000000\" stroke=\"#000000\" points=\"110.0001,-40.1301 106.5,-30.1301 103.0001,-40.1302 110.0001,-40.1301\"/>\n",
       "</g>\n",
       "<!-- 139737377483456 -->\n",
       "<g id=\"node3\" class=\"node\">\n",
       "<title>139737377483456</title>\n",
       "<polygon fill=\"#d3d3d3\" stroke=\"#000000\" points=\"101,-140 0,-140 0,-121 101,-121 101,-140\"/>\n",
       "<text text-anchor=\"middle\" x=\"50.5\" y=\"-128\" font-family=\"monospace\" font-size=\"10.00\" fill=\"#000000\">AccumulateGrad</text>\n",
       "</g>\n",
       "<!-- 139737377483456&#45;&gt;139737377481968 -->\n",
       "<g id=\"edge1\" class=\"edge\">\n",
       "<title>139737377483456&#45;&gt;139737377481968</title>\n",
       "<path fill=\"none\" stroke=\"#000000\" d=\"M60.2545,-120.9197C68.1865,-113.1293 79.5788,-101.9405 89.0712,-92.6176\"/>\n",
       "<polygon fill=\"#000000\" stroke=\"#000000\" points=\"91.7982,-94.845 96.4802,-85.3408 86.8932,-89.8509 91.7982,-94.845\"/>\n",
       "</g>\n",
       "<!-- 139737378835712 -->\n",
       "<g id=\"node4\" class=\"node\">\n",
       "<title>139737378835712</title>\n",
       "<polygon fill=\"#add8e6\" stroke=\"#000000\" points=\"77.5,-206 23.5,-206 23.5,-176 77.5,-176 77.5,-206\"/>\n",
       "<text text-anchor=\"middle\" x=\"50.5\" y=\"-194\" font-family=\"monospace\" font-size=\"10.00\" fill=\"#000000\">b</text>\n",
       "<text text-anchor=\"middle\" x=\"50.5\" y=\"-183\" font-family=\"monospace\" font-size=\"10.00\" fill=\"#000000\"> (1)</text>\n",
       "</g>\n",
       "<!-- 139737378835712&#45;&gt;139737377483456 -->\n",
       "<g id=\"edge2\" class=\"edge\">\n",
       "<title>139737378835712&#45;&gt;139737377483456</title>\n",
       "<path fill=\"none\" stroke=\"#000000\" d=\"M50.5,-175.7333C50.5,-168.0322 50.5,-158.5977 50.5,-150.3414\"/>\n",
       "<polygon fill=\"#000000\" stroke=\"#000000\" points=\"54.0001,-150.0864 50.5,-140.0864 47.0001,-150.0864 54.0001,-150.0864\"/>\n",
       "</g>\n",
       "<!-- 139737377484608 -->\n",
       "<g id=\"node5\" class=\"node\">\n",
       "<title>139737377484608</title>\n",
       "<polygon fill=\"#d3d3d3\" stroke=\"#000000\" points=\"208,-140 119,-140 119,-121 208,-121 208,-140\"/>\n",
       "<text text-anchor=\"middle\" x=\"163.5\" y=\"-128\" font-family=\"monospace\" font-size=\"10.00\" fill=\"#000000\">MulBackward0</text>\n",
       "</g>\n",
       "<!-- 139737377484608&#45;&gt;139737377481968 -->\n",
       "<g id=\"edge3\" class=\"edge\">\n",
       "<title>139737377484608&#45;&gt;139737377481968</title>\n",
       "<path fill=\"none\" stroke=\"#000000\" d=\"M153.5714,-120.9197C145.4169,-113.0514 133.6697,-101.7164 123.9508,-92.3385\"/>\n",
       "<polygon fill=\"#000000\" stroke=\"#000000\" points=\"126.3252,-89.7659 116.6987,-85.3408 121.4646,-94.8032 126.3252,-89.7659\"/>\n",
       "</g>\n",
       "<!-- 139737377483072 -->\n",
       "<g id=\"node6\" class=\"node\">\n",
       "<title>139737377483072</title>\n",
       "<polygon fill=\"#d3d3d3\" stroke=\"#000000\" points=\"214,-200.5 113,-200.5 113,-181.5 214,-181.5 214,-200.5\"/>\n",
       "<text text-anchor=\"middle\" x=\"163.5\" y=\"-188.5\" font-family=\"monospace\" font-size=\"10.00\" fill=\"#000000\">AccumulateGrad</text>\n",
       "</g>\n",
       "<!-- 139737377483072&#45;&gt;139737377484608 -->\n",
       "<g id=\"edge4\" class=\"edge\">\n",
       "<title>139737377483072&#45;&gt;139737377484608</title>\n",
       "<path fill=\"none\" stroke=\"#000000\" d=\"M163.5,-181.2796C163.5,-173.0376 163.5,-160.9457 163.5,-150.629\"/>\n",
       "<polygon fill=\"#000000\" stroke=\"#000000\" points=\"167.0001,-150.3972 163.5,-140.3972 160.0001,-150.3973 167.0001,-150.3972\"/>\n",
       "</g>\n",
       "<!-- 139737378836096 -->\n",
       "<g id=\"node7\" class=\"node\">\n",
       "<title>139737378836096</title>\n",
       "<polygon fill=\"#add8e6\" stroke=\"#000000\" points=\"190.5,-272 136.5,-272 136.5,-242 190.5,-242 190.5,-272\"/>\n",
       "<text text-anchor=\"middle\" x=\"163.5\" y=\"-260\" font-family=\"monospace\" font-size=\"10.00\" fill=\"#000000\">w</text>\n",
       "<text text-anchor=\"middle\" x=\"163.5\" y=\"-249\" font-family=\"monospace\" font-size=\"10.00\" fill=\"#000000\"> (1)</text>\n",
       "</g>\n",
       "<!-- 139737378836096&#45;&gt;139737377483072 -->\n",
       "<g id=\"edge5\" class=\"edge\">\n",
       "<title>139737378836096&#45;&gt;139737377483072</title>\n",
       "<path fill=\"none\" stroke=\"#000000\" d=\"M163.5,-241.6924C163.5,-232.5067 163.5,-220.7245 163.5,-210.8312\"/>\n",
       "<polygon fill=\"#000000\" stroke=\"#000000\" points=\"167.0001,-210.703 163.5,-200.7031 160.0001,-210.7031 167.0001,-210.703\"/>\n",
       "</g>\n",
       "</g>\n",
       "</svg>\n"
      ],
      "text/plain": [
       "<graphviz.graphs.Digraph at 0x7f1724bf2ca0>"
      ]
     },
     "execution_count": 77,
     "metadata": {},
     "output_type": "execute_result"
    }
   ],
   "source": [
    "make_dot(yhat, params={'b': b, 'w': w, 'yhat': yhat})"
   ]
  },
  {
   "cell_type": "markdown",
   "metadata": {
    "colab_type": "text",
    "id": "We7c0NLkq07K"
   },
   "source": [
    "Let’s take a closer look at its components:\n",
    "\n",
    "* **blue boxes**: these boxes correspond to the **tensors** we use as **parameters**, the ones we’re asking PyTorch to **compute gradients** for;\n",
    "\n",
    "* **gray box**: a **Python operation** that involves a **gradient-computing tensor or its dependencies**;\n",
    "\n",
    "* **green box**: the tensor used as the **starting point for the computation** of gradients (assuming the **`backward()`** method is called from the **variable used to visualize** the graph)— they are computed from the **bottom-up** in a graph.\n",
    "\n",
    "Now, take a closer look at the **gray box** at the bottom of the graph: there are **two arrows** pointing to it, since it is **adding up two variables**, `b` and `w*x`. Seems obvious, right?\n",
    "\n",
    "Then, look at the **gray box** (`MulBackwardo0`) of the same graph: it is performing a **multiplication**, namely, `w*x`. But there is only **one arrow** pointing to it! The arrow comes from the **blue box** that corresponds to our parameter `w`.\n",
    "\n",
    "Why don’t we have a box for our **data x**? The answer is: **we do not compute gradients for it**! So, even though there are *more* tensors involved in the operations performed by the computation graph, it **only** shows **gradient-computing tensors and its dependencies**."
   ]
  },
  {
   "cell_type": "markdown",
   "metadata": {
    "colab_type": "text",
    "id": "ZGrlUBcMriPJ"
   },
   "source": [
    "Try using the `make_dot` method to plot the **computation graph** of other variables, like `error` or `loss`.\n",
    "\n",
    "The **only difference** between them and the first one is the number of **intermediate steps (gray boxes)**.\n",
    "\n"
   ]
  },
  {
   "cell_type": "code",
   "execution_count": 78,
   "metadata": {
    "colab": {
     "base_uri": "https://localhost:8080/",
     "height": 477
    },
    "colab_type": "code",
    "id": "Z3T9goqOqIt3",
    "outputId": "5ca6ca7e-31d9-4ceb-8a0e-c417f1820c36"
   },
   "outputs": [
    {
     "data": {
      "image/svg+xml": [
       "<?xml version=\"1.0\" encoding=\"UTF-8\" standalone=\"no\"?>\n",
       "<!DOCTYPE svg PUBLIC \"-//W3C//DTD SVG 1.1//EN\"\n",
       " \"http://www.w3.org/Graphics/SVG/1.1/DTD/svg11.dtd\">\n",
       "<!-- Generated by graphviz version 2.40.1 (20161225.0304)\n",
       " -->\n",
       "<!-- Title: %3 Pages: 1 -->\n",
       "<svg width=\"222pt\" height=\"445pt\"\n",
       " viewBox=\"0.00 0.00 222.00 445.00\" xmlns=\"http://www.w3.org/2000/svg\" xmlns:xlink=\"http://www.w3.org/1999/xlink\">\n",
       "<g id=\"graph0\" class=\"graph\" transform=\"scale(1 1) rotate(0) translate(4 441)\">\n",
       "<title>%3</title>\n",
       "<polygon fill=\"#ffffff\" stroke=\"transparent\" points=\"-4,4 -4,-441 218,-441 218,4 -4,4\"/>\n",
       "<!-- 139737368643136 -->\n",
       "<g id=\"node1\" class=\"node\">\n",
       "<title>139737368643136</title>\n",
       "<polygon fill=\"#caff70\" stroke=\"#000000\" points=\"133.5,-30 79.5,-30 79.5,0 133.5,0 133.5,-30\"/>\n",
       "<text text-anchor=\"middle\" x=\"106.5\" y=\"-18\" font-family=\"monospace\" font-size=\"10.00\" fill=\"#000000\">loss</text>\n",
       "<text text-anchor=\"middle\" x=\"106.5\" y=\"-7\" font-family=\"monospace\" font-size=\"10.00\" fill=\"#000000\"> ()</text>\n",
       "</g>\n",
       "<!-- 139737377484224 -->\n",
       "<g id=\"node2\" class=\"node\">\n",
       "<title>139737377484224</title>\n",
       "<polygon fill=\"#d3d3d3\" stroke=\"#000000\" points=\"154,-85 59,-85 59,-66 154,-66 154,-85\"/>\n",
       "<text text-anchor=\"middle\" x=\"106.5\" y=\"-73\" font-family=\"monospace\" font-size=\"10.00\" fill=\"#000000\">MeanBackward0</text>\n",
       "</g>\n",
       "<!-- 139737377484224&#45;&gt;139737368643136 -->\n",
       "<g id=\"edge9\" class=\"edge\">\n",
       "<title>139737377484224&#45;&gt;139737368643136</title>\n",
       "<path fill=\"none\" stroke=\"#000000\" d=\"M106.5,-65.7796C106.5,-58.8654 106.5,-49.2417 106.5,-40.2296\"/>\n",
       "<polygon fill=\"#000000\" stroke=\"#000000\" points=\"110.0001,-40.1301 106.5,-30.1301 103.0001,-40.1302 110.0001,-40.1301\"/>\n",
       "</g>\n",
       "<!-- 139737377481536 -->\n",
       "<g id=\"node3\" class=\"node\">\n",
       "<title>139737377481536</title>\n",
       "<polygon fill=\"#d3d3d3\" stroke=\"#000000\" points=\"151,-140 62,-140 62,-121 151,-121 151,-140\"/>\n",
       "<text text-anchor=\"middle\" x=\"106.5\" y=\"-128\" font-family=\"monospace\" font-size=\"10.00\" fill=\"#000000\">PowBackward0</text>\n",
       "</g>\n",
       "<!-- 139737377481536&#45;&gt;139737377484224 -->\n",
       "<g id=\"edge1\" class=\"edge\">\n",
       "<title>139737377481536&#45;&gt;139737377484224</title>\n",
       "<path fill=\"none\" stroke=\"#000000\" d=\"M106.5,-120.9197C106.5,-113.9083 106.5,-104.1442 106.5,-95.4652\"/>\n",
       "<polygon fill=\"#000000\" stroke=\"#000000\" points=\"110.0001,-95.3408 106.5,-85.3408 103.0001,-95.3409 110.0001,-95.3408\"/>\n",
       "</g>\n",
       "<!-- 139737377484368 -->\n",
       "<g id=\"node4\" class=\"node\">\n",
       "<title>139737377484368</title>\n",
       "<polygon fill=\"#d3d3d3\" stroke=\"#000000\" points=\"151,-195 62,-195 62,-176 151,-176 151,-195\"/>\n",
       "<text text-anchor=\"middle\" x=\"106.5\" y=\"-183\" font-family=\"monospace\" font-size=\"10.00\" fill=\"#000000\">SubBackward0</text>\n",
       "</g>\n",
       "<!-- 139737377484368&#45;&gt;139737377481536 -->\n",
       "<g id=\"edge2\" class=\"edge\">\n",
       "<title>139737377484368&#45;&gt;139737377481536</title>\n",
       "<path fill=\"none\" stroke=\"#000000\" d=\"M106.5,-175.9197C106.5,-168.9083 106.5,-159.1442 106.5,-150.4652\"/>\n",
       "<polygon fill=\"#000000\" stroke=\"#000000\" points=\"110.0001,-150.3408 106.5,-140.3408 103.0001,-150.3409 110.0001,-150.3408\"/>\n",
       "</g>\n",
       "<!-- 139737377481968 -->\n",
       "<g id=\"node5\" class=\"node\">\n",
       "<title>139737377481968</title>\n",
       "<polygon fill=\"#d3d3d3\" stroke=\"#000000\" points=\"151,-250 62,-250 62,-231 151,-231 151,-250\"/>\n",
       "<text text-anchor=\"middle\" x=\"106.5\" y=\"-238\" font-family=\"monospace\" font-size=\"10.00\" fill=\"#000000\">AddBackward0</text>\n",
       "</g>\n",
       "<!-- 139737377481968&#45;&gt;139737377484368 -->\n",
       "<g id=\"edge3\" class=\"edge\">\n",
       "<title>139737377481968&#45;&gt;139737377484368</title>\n",
       "<path fill=\"none\" stroke=\"#000000\" d=\"M106.5,-230.9197C106.5,-223.9083 106.5,-214.1442 106.5,-205.4652\"/>\n",
       "<polygon fill=\"#000000\" stroke=\"#000000\" points=\"110.0001,-205.3408 106.5,-195.3408 103.0001,-205.3409 110.0001,-205.3408\"/>\n",
       "</g>\n",
       "<!-- 139737377483456 -->\n",
       "<g id=\"node6\" class=\"node\">\n",
       "<title>139737377483456</title>\n",
       "<polygon fill=\"#d3d3d3\" stroke=\"#000000\" points=\"101,-305 0,-305 0,-286 101,-286 101,-305\"/>\n",
       "<text text-anchor=\"middle\" x=\"50.5\" y=\"-293\" font-family=\"monospace\" font-size=\"10.00\" fill=\"#000000\">AccumulateGrad</text>\n",
       "</g>\n",
       "<!-- 139737377483456&#45;&gt;139737377481968 -->\n",
       "<g id=\"edge4\" class=\"edge\">\n",
       "<title>139737377483456&#45;&gt;139737377481968</title>\n",
       "<path fill=\"none\" stroke=\"#000000\" d=\"M60.2545,-285.9197C68.1865,-278.1293 79.5788,-266.9405 89.0712,-257.6176\"/>\n",
       "<polygon fill=\"#000000\" stroke=\"#000000\" points=\"91.7982,-259.845 96.4802,-250.3408 86.8932,-254.8509 91.7982,-259.845\"/>\n",
       "</g>\n",
       "<!-- 139737378835712 -->\n",
       "<g id=\"node7\" class=\"node\">\n",
       "<title>139737378835712</title>\n",
       "<polygon fill=\"#add8e6\" stroke=\"#000000\" points=\"77.5,-371 23.5,-371 23.5,-341 77.5,-341 77.5,-371\"/>\n",
       "<text text-anchor=\"middle\" x=\"50.5\" y=\"-359\" font-family=\"monospace\" font-size=\"10.00\" fill=\"#000000\">b</text>\n",
       "<text text-anchor=\"middle\" x=\"50.5\" y=\"-348\" font-family=\"monospace\" font-size=\"10.00\" fill=\"#000000\"> (1)</text>\n",
       "</g>\n",
       "<!-- 139737378835712&#45;&gt;139737377483456 -->\n",
       "<g id=\"edge5\" class=\"edge\">\n",
       "<title>139737378835712&#45;&gt;139737377483456</title>\n",
       "<path fill=\"none\" stroke=\"#000000\" d=\"M50.5,-340.7333C50.5,-333.0322 50.5,-323.5977 50.5,-315.3414\"/>\n",
       "<polygon fill=\"#000000\" stroke=\"#000000\" points=\"54.0001,-315.0864 50.5,-305.0864 47.0001,-315.0864 54.0001,-315.0864\"/>\n",
       "</g>\n",
       "<!-- 139737377484608 -->\n",
       "<g id=\"node8\" class=\"node\">\n",
       "<title>139737377484608</title>\n",
       "<polygon fill=\"#d3d3d3\" stroke=\"#000000\" points=\"208,-305 119,-305 119,-286 208,-286 208,-305\"/>\n",
       "<text text-anchor=\"middle\" x=\"163.5\" y=\"-293\" font-family=\"monospace\" font-size=\"10.00\" fill=\"#000000\">MulBackward0</text>\n",
       "</g>\n",
       "<!-- 139737377484608&#45;&gt;139737377481968 -->\n",
       "<g id=\"edge6\" class=\"edge\">\n",
       "<title>139737377484608&#45;&gt;139737377481968</title>\n",
       "<path fill=\"none\" stroke=\"#000000\" d=\"M153.5714,-285.9197C145.4169,-278.0514 133.6697,-266.7164 123.9508,-257.3385\"/>\n",
       "<polygon fill=\"#000000\" stroke=\"#000000\" points=\"126.3252,-254.7659 116.6987,-250.3408 121.4646,-259.8032 126.3252,-254.7659\"/>\n",
       "</g>\n",
       "<!-- 139737377483072 -->\n",
       "<g id=\"node9\" class=\"node\">\n",
       "<title>139737377483072</title>\n",
       "<polygon fill=\"#d3d3d3\" stroke=\"#000000\" points=\"214,-365.5 113,-365.5 113,-346.5 214,-346.5 214,-365.5\"/>\n",
       "<text text-anchor=\"middle\" x=\"163.5\" y=\"-353.5\" font-family=\"monospace\" font-size=\"10.00\" fill=\"#000000\">AccumulateGrad</text>\n",
       "</g>\n",
       "<!-- 139737377483072&#45;&gt;139737377484608 -->\n",
       "<g id=\"edge7\" class=\"edge\">\n",
       "<title>139737377483072&#45;&gt;139737377484608</title>\n",
       "<path fill=\"none\" stroke=\"#000000\" d=\"M163.5,-346.2796C163.5,-338.0376 163.5,-325.9457 163.5,-315.629\"/>\n",
       "<polygon fill=\"#000000\" stroke=\"#000000\" points=\"167.0001,-315.3972 163.5,-305.3972 160.0001,-315.3973 167.0001,-315.3972\"/>\n",
       "</g>\n",
       "<!-- 139737378836096 -->\n",
       "<g id=\"node10\" class=\"node\">\n",
       "<title>139737378836096</title>\n",
       "<polygon fill=\"#add8e6\" stroke=\"#000000\" points=\"190.5,-437 136.5,-437 136.5,-407 190.5,-407 190.5,-437\"/>\n",
       "<text text-anchor=\"middle\" x=\"163.5\" y=\"-425\" font-family=\"monospace\" font-size=\"10.00\" fill=\"#000000\">w</text>\n",
       "<text text-anchor=\"middle\" x=\"163.5\" y=\"-414\" font-family=\"monospace\" font-size=\"10.00\" fill=\"#000000\"> (1)</text>\n",
       "</g>\n",
       "<!-- 139737378836096&#45;&gt;139737377483072 -->\n",
       "<g id=\"edge8\" class=\"edge\">\n",
       "<title>139737378836096&#45;&gt;139737377483072</title>\n",
       "<path fill=\"none\" stroke=\"#000000\" d=\"M163.5,-406.6924C163.5,-397.5067 163.5,-385.7245 163.5,-375.8312\"/>\n",
       "<polygon fill=\"#000000\" stroke=\"#000000\" points=\"167.0001,-375.703 163.5,-365.7031 160.0001,-375.7031 167.0001,-375.703\"/>\n",
       "</g>\n",
       "</g>\n",
       "</svg>\n"
      ],
      "text/plain": [
       "<graphviz.graphs.Digraph at 0x7f1724bf26d0>"
      ]
     },
     "execution_count": 78,
     "metadata": {},
     "output_type": "execute_result"
    }
   ],
   "source": [
    "make_dot(loss, params={'b': b, 'w': w, 'loss': loss})"
   ]
  },
  {
   "cell_type": "markdown",
   "metadata": {
    "colab_type": "text",
    "id": "VPZuuf-wt5Yk"
   },
   "source": [
    "What would happen to the computation graph if we set **`requires_grad`** to **`False`** for our parameter **`b`**?"
   ]
  },
  {
   "cell_type": "code",
   "execution_count": 79,
   "metadata": {
    "colab": {},
    "colab_type": "code",
    "id": "BnsSXOMctokE"
   },
   "outputs": [],
   "source": [
    "b_nograd = torch.randn(1, requires_grad=False, dtype=torch.float, device=device)\n",
    "w = torch.randn(1, requires_grad=True, dtype=torch.float, device=device)\n",
    "\n",
    "yhat = b_nograd + w * x_train_tensor"
   ]
  },
  {
   "cell_type": "code",
   "execution_count": 80,
   "metadata": {
    "colab": {
     "base_uri": "https://localhost:8080/",
     "height": 231
    },
    "colab_type": "code",
    "id": "zzActDPeuLjb",
    "outputId": "b5345cf7-07c2-413e-e604-c2468c960d2a"
   },
   "outputs": [
    {
     "data": {
      "image/svg+xml": [
       "<?xml version=\"1.0\" encoding=\"UTF-8\" standalone=\"no\"?>\n",
       "<!DOCTYPE svg PUBLIC \"-//W3C//DTD SVG 1.1//EN\"\n",
       " \"http://www.w3.org/Graphics/SVG/1.1/DTD/svg11.dtd\">\n",
       "<!-- Generated by graphviz version 2.40.1 (20161225.0304)\n",
       " -->\n",
       "<!-- Title: %3 Pages: 1 -->\n",
       "<svg width=\"109pt\" height=\"269pt\"\n",
       " viewBox=\"0.00 0.00 109.00 269.00\" xmlns=\"http://www.w3.org/2000/svg\" xmlns:xlink=\"http://www.w3.org/1999/xlink\">\n",
       "<g id=\"graph0\" class=\"graph\" transform=\"scale(1 1) rotate(0) translate(4 265)\">\n",
       "<title>%3</title>\n",
       "<polygon fill=\"#ffffff\" stroke=\"transparent\" points=\"-4,4 -4,-265 105,-265 105,4 -4,4\"/>\n",
       "<!-- 139737368691904 -->\n",
       "<g id=\"node1\" class=\"node\">\n",
       "<title>139737368691904</title>\n",
       "<polygon fill=\"#caff70\" stroke=\"#000000\" points=\"83,-30 18,-30 18,0 83,0 83,-30\"/>\n",
       "<text text-anchor=\"middle\" x=\"50.5\" y=\"-18\" font-family=\"monospace\" font-size=\"10.00\" fill=\"#000000\">yhat</text>\n",
       "<text text-anchor=\"middle\" x=\"50.5\" y=\"-7\" font-family=\"monospace\" font-size=\"10.00\" fill=\"#000000\"> (80, 1)</text>\n",
       "</g>\n",
       "<!-- 139737378531408 -->\n",
       "<g id=\"node2\" class=\"node\">\n",
       "<title>139737378531408</title>\n",
       "<polygon fill=\"#d3d3d3\" stroke=\"#000000\" points=\"95,-85 6,-85 6,-66 95,-66 95,-85\"/>\n",
       "<text text-anchor=\"middle\" x=\"50.5\" y=\"-73\" font-family=\"monospace\" font-size=\"10.00\" fill=\"#000000\">AddBackward0</text>\n",
       "</g>\n",
       "<!-- 139737378531408&#45;&gt;139737368691904 -->\n",
       "<g id=\"edge4\" class=\"edge\">\n",
       "<title>139737378531408&#45;&gt;139737368691904</title>\n",
       "<path fill=\"none\" stroke=\"#000000\" d=\"M50.5,-65.7796C50.5,-58.8654 50.5,-49.2417 50.5,-40.2296\"/>\n",
       "<polygon fill=\"#000000\" stroke=\"#000000\" points=\"54.0001,-40.1301 50.5,-30.1301 47.0001,-40.1302 54.0001,-40.1301\"/>\n",
       "</g>\n",
       "<!-- 139737378531264 -->\n",
       "<g id=\"node3\" class=\"node\">\n",
       "<title>139737378531264</title>\n",
       "<polygon fill=\"#d3d3d3\" stroke=\"#000000\" points=\"95,-140 6,-140 6,-121 95,-121 95,-140\"/>\n",
       "<text text-anchor=\"middle\" x=\"50.5\" y=\"-128\" font-family=\"monospace\" font-size=\"10.00\" fill=\"#000000\">MulBackward0</text>\n",
       "</g>\n",
       "<!-- 139737378531264&#45;&gt;139737378531408 -->\n",
       "<g id=\"edge1\" class=\"edge\">\n",
       "<title>139737378531264&#45;&gt;139737378531408</title>\n",
       "<path fill=\"none\" stroke=\"#000000\" d=\"M50.5,-120.9197C50.5,-113.9083 50.5,-104.1442 50.5,-95.4652\"/>\n",
       "<polygon fill=\"#000000\" stroke=\"#000000\" points=\"54.0001,-95.3408 50.5,-85.3408 47.0001,-95.3409 54.0001,-95.3408\"/>\n",
       "</g>\n",
       "<!-- 139737378531168 -->\n",
       "<g id=\"node4\" class=\"node\">\n",
       "<title>139737378531168</title>\n",
       "<polygon fill=\"#d3d3d3\" stroke=\"#000000\" points=\"101,-195 0,-195 0,-176 101,-176 101,-195\"/>\n",
       "<text text-anchor=\"middle\" x=\"50.5\" y=\"-183\" font-family=\"monospace\" font-size=\"10.00\" fill=\"#000000\">AccumulateGrad</text>\n",
       "</g>\n",
       "<!-- 139737378531168&#45;&gt;139737378531264 -->\n",
       "<g id=\"edge2\" class=\"edge\">\n",
       "<title>139737378531168&#45;&gt;139737378531264</title>\n",
       "<path fill=\"none\" stroke=\"#000000\" d=\"M50.5,-175.9197C50.5,-168.9083 50.5,-159.1442 50.5,-150.4652\"/>\n",
       "<polygon fill=\"#000000\" stroke=\"#000000\" points=\"54.0001,-150.3408 50.5,-140.3408 47.0001,-150.3409 54.0001,-150.3408\"/>\n",
       "</g>\n",
       "<!-- 139737368681024 -->\n",
       "<g id=\"node5\" class=\"node\">\n",
       "<title>139737368681024</title>\n",
       "<polygon fill=\"#add8e6\" stroke=\"#000000\" points=\"77.5,-261 23.5,-261 23.5,-231 77.5,-231 77.5,-261\"/>\n",
       "<text text-anchor=\"middle\" x=\"50.5\" y=\"-249\" font-family=\"monospace\" font-size=\"10.00\" fill=\"#000000\">w</text>\n",
       "<text text-anchor=\"middle\" x=\"50.5\" y=\"-238\" font-family=\"monospace\" font-size=\"10.00\" fill=\"#000000\"> (1)</text>\n",
       "</g>\n",
       "<!-- 139737368681024&#45;&gt;139737378531168 -->\n",
       "<g id=\"edge3\" class=\"edge\">\n",
       "<title>139737368681024&#45;&gt;139737378531168</title>\n",
       "<path fill=\"none\" stroke=\"#000000\" d=\"M50.5,-230.7333C50.5,-223.0322 50.5,-213.5977 50.5,-205.3414\"/>\n",
       "<polygon fill=\"#000000\" stroke=\"#000000\" points=\"54.0001,-205.0864 50.5,-195.0864 47.0001,-205.0864 54.0001,-205.0864\"/>\n",
       "</g>\n",
       "</g>\n",
       "</svg>\n"
      ],
      "text/plain": [
       "<graphviz.graphs.Digraph at 0x7f1724cf2820>"
      ]
     },
     "execution_count": 80,
     "metadata": {},
     "output_type": "execute_result"
    }
   ],
   "source": [
    "make_dot(yhat, params={'b': b_nograd, 'w': w, 'yhat': yhat})"
   ]
  },
  {
   "cell_type": "markdown",
   "metadata": {
    "colab_type": "text",
    "id": "fxojZtzpuQ6W"
   },
   "source": [
    "Unsurprisingly, the **blue box** corresponding to the **parameter a** is no more! \n",
    "\n",
    "Simple enough: **no gradients, no graph**.\n",
    "\n",
    "The **best thing** about the *dynamic computing graph* is the fact that you can make it **as complex as you want it**. You can even use *control flow statements* (e.g., if statements) to **control the flow of the gradients** (obviously!) :-)\n",
    "\n",
    "Let's build a nonsensical, yet complex, computation graph just to make a point!"
   ]
  },
  {
   "cell_type": "code",
   "execution_count": 81,
   "metadata": {
    "colab": {},
    "colab_type": "code",
    "id": "wddV-foIuOcO"
   },
   "outputs": [],
   "source": [
    "yhat = b + w * x_train_tensor\n",
    "error = yhat - y_train_tensor\n",
    "\n",
    "loss = (error ** 2).mean()\n",
    "\n",
    "if loss > 0:\n",
    "    yhat2 = w * x_train_tensor\n",
    "    error2 = y_train_tensor - yhat2\n",
    "\n",
    "loss += error2.mean()"
   ]
  },
  {
   "cell_type": "code",
   "execution_count": 82,
   "metadata": {
    "colab": {
     "base_uri": "https://localhost:8080/",
     "height": 553
    },
    "colab_type": "code",
    "id": "J6kP2dA-u6w4",
    "outputId": "986fbd2f-48dc-4918-c1db-22cf75d77728"
   },
   "outputs": [
    {
     "data": {
      "image/svg+xml": [
       "<?xml version=\"1.0\" encoding=\"UTF-8\" standalone=\"no\"?>\n",
       "<!DOCTYPE svg PUBLIC \"-//W3C//DTD SVG 1.1//EN\"\n",
       " \"http://www.w3.org/Graphics/SVG/1.1/DTD/svg11.dtd\">\n",
       "<!-- Generated by graphviz version 2.40.1 (20161225.0304)\n",
       " -->\n",
       "<!-- Title: %3 Pages: 1 -->\n",
       "<svg width=\"326pt\" height=\"500pt\"\n",
       " viewBox=\"0.00 0.00 326.00 500.00\" xmlns=\"http://www.w3.org/2000/svg\" xmlns:xlink=\"http://www.w3.org/1999/xlink\">\n",
       "<g id=\"graph0\" class=\"graph\" transform=\"scale(1 1) rotate(0) translate(4 496)\">\n",
       "<title>%3</title>\n",
       "<polygon fill=\"#ffffff\" stroke=\"transparent\" points=\"-4,4 -4,-496 322,-496 322,4 -4,4\"/>\n",
       "<!-- 139737368699648 -->\n",
       "<g id=\"node1\" class=\"node\">\n",
       "<title>139737368699648</title>\n",
       "<polygon fill=\"#caff70\" stroke=\"#000000\" points=\"242.5,-30 188.5,-30 188.5,0 242.5,0 242.5,-30\"/>\n",
       "<text text-anchor=\"middle\" x=\"215.5\" y=\"-18\" font-family=\"monospace\" font-size=\"10.00\" fill=\"#000000\">loss</text>\n",
       "<text text-anchor=\"middle\" x=\"215.5\" y=\"-7\" font-family=\"monospace\" font-size=\"10.00\" fill=\"#000000\"> ()</text>\n",
       "</g>\n",
       "<!-- 139737368703712 -->\n",
       "<g id=\"node2\" class=\"node\">\n",
       "<title>139737368703712</title>\n",
       "<polygon fill=\"#d3d3d3\" stroke=\"#000000\" points=\"260,-85 171,-85 171,-66 260,-66 260,-85\"/>\n",
       "<text text-anchor=\"middle\" x=\"215.5\" y=\"-73\" font-family=\"monospace\" font-size=\"10.00\" fill=\"#000000\">AddBackward0</text>\n",
       "</g>\n",
       "<!-- 139737368703712&#45;&gt;139737368699648 -->\n",
       "<g id=\"edge14\" class=\"edge\">\n",
       "<title>139737368703712&#45;&gt;139737368699648</title>\n",
       "<path fill=\"none\" stroke=\"#000000\" d=\"M215.5,-65.7796C215.5,-58.8654 215.5,-49.2417 215.5,-40.2296\"/>\n",
       "<polygon fill=\"#000000\" stroke=\"#000000\" points=\"219.0001,-40.1301 215.5,-30.1301 212.0001,-40.1302 219.0001,-40.1301\"/>\n",
       "</g>\n",
       "<!-- 139737368704576 -->\n",
       "<g id=\"node3\" class=\"node\">\n",
       "<title>139737368704576</title>\n",
       "<polygon fill=\"#d3d3d3\" stroke=\"#000000\" points=\"225,-140 130,-140 130,-121 225,-121 225,-140\"/>\n",
       "<text text-anchor=\"middle\" x=\"177.5\" y=\"-128\" font-family=\"monospace\" font-size=\"10.00\" fill=\"#000000\">MeanBackward0</text>\n",
       "</g>\n",
       "<!-- 139737368704576&#45;&gt;139737368703712 -->\n",
       "<g id=\"edge1\" class=\"edge\">\n",
       "<title>139737368704576&#45;&gt;139737368703712</title>\n",
       "<path fill=\"none\" stroke=\"#000000\" d=\"M184.1191,-120.9197C189.2863,-113.4409 196.6174,-102.8301 202.8944,-93.745\"/>\n",
       "<polygon fill=\"#000000\" stroke=\"#000000\" points=\"205.8961,-95.5577 208.7009,-85.3408 200.137,-91.5786 205.8961,-95.5577\"/>\n",
       "</g>\n",
       "<!-- 139737368704432 -->\n",
       "<g id=\"node4\" class=\"node\">\n",
       "<title>139737368704432</title>\n",
       "<polygon fill=\"#d3d3d3\" stroke=\"#000000\" points=\"205,-195 116,-195 116,-176 205,-176 205,-195\"/>\n",
       "<text text-anchor=\"middle\" x=\"160.5\" y=\"-183\" font-family=\"monospace\" font-size=\"10.00\" fill=\"#000000\">PowBackward0</text>\n",
       "</g>\n",
       "<!-- 139737368704432&#45;&gt;139737368704576 -->\n",
       "<g id=\"edge2\" class=\"edge\">\n",
       "<title>139737368704432&#45;&gt;139737368704576</title>\n",
       "<path fill=\"none\" stroke=\"#000000\" d=\"M163.4612,-175.9197C165.6524,-168.8304 168.7135,-158.9269 171.4182,-150.1763\"/>\n",
       "<polygon fill=\"#000000\" stroke=\"#000000\" points=\"174.8491,-150.9285 174.4583,-140.3408 168.1612,-148.8613 174.8491,-150.9285\"/>\n",
       "</g>\n",
       "<!-- 139737368705152 -->\n",
       "<g id=\"node5\" class=\"node\">\n",
       "<title>139737368705152</title>\n",
       "<polygon fill=\"#d3d3d3\" stroke=\"#000000\" points=\"205,-250 116,-250 116,-231 205,-231 205,-250\"/>\n",
       "<text text-anchor=\"middle\" x=\"160.5\" y=\"-238\" font-family=\"monospace\" font-size=\"10.00\" fill=\"#000000\">SubBackward0</text>\n",
       "</g>\n",
       "<!-- 139737368705152&#45;&gt;139737368704432 -->\n",
       "<g id=\"edge3\" class=\"edge\">\n",
       "<title>139737368705152&#45;&gt;139737368704432</title>\n",
       "<path fill=\"none\" stroke=\"#000000\" d=\"M160.5,-230.9197C160.5,-223.9083 160.5,-214.1442 160.5,-205.4652\"/>\n",
       "<polygon fill=\"#000000\" stroke=\"#000000\" points=\"164.0001,-205.3408 160.5,-195.3408 157.0001,-205.3409 164.0001,-205.3408\"/>\n",
       "</g>\n",
       "<!-- 139737368705296 -->\n",
       "<g id=\"node6\" class=\"node\">\n",
       "<title>139737368705296</title>\n",
       "<polygon fill=\"#d3d3d3\" stroke=\"#000000\" points=\"205,-305 116,-305 116,-286 205,-286 205,-305\"/>\n",
       "<text text-anchor=\"middle\" x=\"160.5\" y=\"-293\" font-family=\"monospace\" font-size=\"10.00\" fill=\"#000000\">AddBackward0</text>\n",
       "</g>\n",
       "<!-- 139737368705296&#45;&gt;139737368705152 -->\n",
       "<g id=\"edge4\" class=\"edge\">\n",
       "<title>139737368705296&#45;&gt;139737368705152</title>\n",
       "<path fill=\"none\" stroke=\"#000000\" d=\"M160.5,-285.9197C160.5,-278.9083 160.5,-269.1442 160.5,-260.4652\"/>\n",
       "<polygon fill=\"#000000\" stroke=\"#000000\" points=\"164.0001,-260.3408 160.5,-250.3408 157.0001,-260.3409 164.0001,-260.3408\"/>\n",
       "</g>\n",
       "<!-- 139737377483456 -->\n",
       "<g id=\"node7\" class=\"node\">\n",
       "<title>139737377483456</title>\n",
       "<polygon fill=\"#d3d3d3\" stroke=\"#000000\" points=\"101,-360 0,-360 0,-341 101,-341 101,-360\"/>\n",
       "<text text-anchor=\"middle\" x=\"50.5\" y=\"-348\" font-family=\"monospace\" font-size=\"10.00\" fill=\"#000000\">AccumulateGrad</text>\n",
       "</g>\n",
       "<!-- 139737377483456&#45;&gt;139737368705296 -->\n",
       "<g id=\"edge5\" class=\"edge\">\n",
       "<title>139737377483456&#45;&gt;139737368705296</title>\n",
       "<path fill=\"none\" stroke=\"#000000\" d=\"M69.6605,-340.9197C86.9053,-332.2973 112.476,-319.512 132.0978,-309.7011\"/>\n",
       "<polygon fill=\"#000000\" stroke=\"#000000\" points=\"133.8109,-312.7577 141.19,-305.155 130.6804,-306.4967 133.8109,-312.7577\"/>\n",
       "</g>\n",
       "<!-- 139737378835712 -->\n",
       "<g id=\"node8\" class=\"node\">\n",
       "<title>139737378835712</title>\n",
       "<polygon fill=\"#add8e6\" stroke=\"#000000\" points=\"77.5,-426 23.5,-426 23.5,-396 77.5,-396 77.5,-426\"/>\n",
       "<text text-anchor=\"middle\" x=\"50.5\" y=\"-414\" font-family=\"monospace\" font-size=\"10.00\" fill=\"#000000\">b</text>\n",
       "<text text-anchor=\"middle\" x=\"50.5\" y=\"-403\" font-family=\"monospace\" font-size=\"10.00\" fill=\"#000000\"> (1)</text>\n",
       "</g>\n",
       "<!-- 139737378835712&#45;&gt;139737377483456 -->\n",
       "<g id=\"edge6\" class=\"edge\">\n",
       "<title>139737378835712&#45;&gt;139737377483456</title>\n",
       "<path fill=\"none\" stroke=\"#000000\" d=\"M50.5,-395.7333C50.5,-388.0322 50.5,-378.5977 50.5,-370.3414\"/>\n",
       "<polygon fill=\"#000000\" stroke=\"#000000\" points=\"54.0001,-370.0864 50.5,-360.0864 47.0001,-370.0864 54.0001,-370.0864\"/>\n",
       "</g>\n",
       "<!-- 139737368703280 -->\n",
       "<g id=\"node9\" class=\"node\">\n",
       "<title>139737368703280</title>\n",
       "<polygon fill=\"#d3d3d3\" stroke=\"#000000\" points=\"208,-360 119,-360 119,-341 208,-341 208,-360\"/>\n",
       "<text text-anchor=\"middle\" x=\"163.5\" y=\"-348\" font-family=\"monospace\" font-size=\"10.00\" fill=\"#000000\">MulBackward0</text>\n",
       "</g>\n",
       "<!-- 139737368703280&#45;&gt;139737368705296 -->\n",
       "<g id=\"edge7\" class=\"edge\">\n",
       "<title>139737368703280&#45;&gt;139737368705296</title>\n",
       "<path fill=\"none\" stroke=\"#000000\" d=\"M162.9774,-340.9197C162.595,-333.9083 162.0624,-324.1442 161.589,-315.4652\"/>\n",
       "<polygon fill=\"#000000\" stroke=\"#000000\" points=\"165.0763,-315.1353 161.0368,-305.3408 158.0867,-315.5166 165.0763,-315.1353\"/>\n",
       "</g>\n",
       "<!-- 139737378531168 -->\n",
       "<g id=\"node10\" class=\"node\">\n",
       "<title>139737378531168</title>\n",
       "<polygon fill=\"#d3d3d3\" stroke=\"#000000\" points=\"267,-420.5 166,-420.5 166,-401.5 267,-401.5 267,-420.5\"/>\n",
       "<text text-anchor=\"middle\" x=\"216.5\" y=\"-408.5\" font-family=\"monospace\" font-size=\"10.00\" fill=\"#000000\">AccumulateGrad</text>\n",
       "</g>\n",
       "<!-- 139737378531168&#45;&gt;139737368703280 -->\n",
       "<g id=\"edge8\" class=\"edge\">\n",
       "<title>139737378531168&#45;&gt;139737368703280</title>\n",
       "<path fill=\"none\" stroke=\"#000000\" d=\"M207.9846,-401.2796C200.1499,-392.3362 188.344,-378.8597 178.863,-368.037\"/>\n",
       "<polygon fill=\"#000000\" stroke=\"#000000\" points=\"181.3925,-365.6129 172.1703,-360.3972 176.1271,-370.2255 181.3925,-365.6129\"/>\n",
       "</g>\n",
       "<!-- 139737368704384 -->\n",
       "<g id=\"node14\" class=\"node\">\n",
       "<title>139737368704384</title>\n",
       "<polygon fill=\"#d3d3d3\" stroke=\"#000000\" points=\"315,-360 226,-360 226,-341 315,-341 315,-360\"/>\n",
       "<text text-anchor=\"middle\" x=\"270.5\" y=\"-348\" font-family=\"monospace\" font-size=\"10.00\" fill=\"#000000\">MulBackward0</text>\n",
       "</g>\n",
       "<!-- 139737378531168&#45;&gt;139737368704384 -->\n",
       "<g id=\"edge13\" class=\"edge\">\n",
       "<title>139737378531168&#45;&gt;139737368704384</title>\n",
       "<path fill=\"none\" stroke=\"#000000\" d=\"M225.176,-401.2796C233.1586,-392.3362 245.1872,-378.8597 254.8471,-368.037\"/>\n",
       "<polygon fill=\"#000000\" stroke=\"#000000\" points=\"257.6183,-370.1884 261.6661,-360.3972 252.396,-365.5271 257.6183,-370.1884\"/>\n",
       "</g>\n",
       "<!-- 139737368681024 -->\n",
       "<g id=\"node11\" class=\"node\">\n",
       "<title>139737368681024</title>\n",
       "<polygon fill=\"#add8e6\" stroke=\"#000000\" points=\"243.5,-492 189.5,-492 189.5,-462 243.5,-462 243.5,-492\"/>\n",
       "<text text-anchor=\"middle\" x=\"216.5\" y=\"-480\" font-family=\"monospace\" font-size=\"10.00\" fill=\"#000000\">w</text>\n",
       "<text text-anchor=\"middle\" x=\"216.5\" y=\"-469\" font-family=\"monospace\" font-size=\"10.00\" fill=\"#000000\"> (1)</text>\n",
       "</g>\n",
       "<!-- 139737368681024&#45;&gt;139737378531168 -->\n",
       "<g id=\"edge9\" class=\"edge\">\n",
       "<title>139737368681024&#45;&gt;139737378531168</title>\n",
       "<path fill=\"none\" stroke=\"#000000\" d=\"M216.5,-461.6924C216.5,-452.5067 216.5,-440.7245 216.5,-430.8312\"/>\n",
       "<polygon fill=\"#000000\" stroke=\"#000000\" points=\"220.0001,-430.703 216.5,-420.7031 213.0001,-430.7031 220.0001,-430.703\"/>\n",
       "</g>\n",
       "<!-- 139737368703808 -->\n",
       "<g id=\"node12\" class=\"node\">\n",
       "<title>139737368703808</title>\n",
       "<polygon fill=\"#d3d3d3\" stroke=\"#000000\" points=\"318,-195 223,-195 223,-176 318,-176 318,-195\"/>\n",
       "<text text-anchor=\"middle\" x=\"270.5\" y=\"-183\" font-family=\"monospace\" font-size=\"10.00\" fill=\"#000000\">MeanBackward0</text>\n",
       "</g>\n",
       "<!-- 139737368703808&#45;&gt;139737368703712 -->\n",
       "<g id=\"edge10\" class=\"edge\">\n",
       "<title>139737368703808&#45;&gt;139737368703712</title>\n",
       "<path fill=\"none\" stroke=\"#000000\" d=\"M265.6191,-175.7382C256.4636,-157.4271 236.5757,-117.6514 224.791,-94.082\"/>\n",
       "<polygon fill=\"#000000\" stroke=\"#000000\" points=\"227.8941,-92.4618 220.2914,-85.0828 221.6331,-95.5924 227.8941,-92.4618\"/>\n",
       "</g>\n",
       "<!-- 139737368705008 -->\n",
       "<g id=\"node13\" class=\"node\">\n",
       "<title>139737368705008</title>\n",
       "<polygon fill=\"#d3d3d3\" stroke=\"#000000\" points=\"315,-305 226,-305 226,-286 315,-286 315,-305\"/>\n",
       "<text text-anchor=\"middle\" x=\"270.5\" y=\"-293\" font-family=\"monospace\" font-size=\"10.00\" fill=\"#000000\">SubBackward0</text>\n",
       "</g>\n",
       "<!-- 139737368705008&#45;&gt;139737368703808 -->\n",
       "<g id=\"edge11\" class=\"edge\">\n",
       "<title>139737368705008&#45;&gt;139737368703808</title>\n",
       "<path fill=\"none\" stroke=\"#000000\" d=\"M270.5,-285.7382C270.5,-267.7541 270.5,-229.0652 270.5,-205.3599\"/>\n",
       "<polygon fill=\"#000000\" stroke=\"#000000\" points=\"274.0001,-205.0828 270.5,-195.0828 267.0001,-205.0829 274.0001,-205.0828\"/>\n",
       "</g>\n",
       "<!-- 139737368704384&#45;&gt;139737368705008 -->\n",
       "<g id=\"edge12\" class=\"edge\">\n",
       "<title>139737368704384&#45;&gt;139737368705008</title>\n",
       "<path fill=\"none\" stroke=\"#000000\" d=\"M270.5,-340.9197C270.5,-333.9083 270.5,-324.1442 270.5,-315.4652\"/>\n",
       "<polygon fill=\"#000000\" stroke=\"#000000\" points=\"274.0001,-315.3408 270.5,-305.3408 267.0001,-315.3409 274.0001,-315.3408\"/>\n",
       "</g>\n",
       "</g>\n",
       "</svg>\n"
      ],
      "text/plain": [
       "<graphviz.graphs.Digraph at 0x7f1724393100>"
      ]
     },
     "execution_count": 82,
     "metadata": {},
     "output_type": "execute_result"
    }
   ],
   "source": [
    "make_dot(loss, params={'b': b, 'w': w, 'loss': loss})"
   ]
  },
  {
   "cell_type": "markdown",
   "metadata": {
    "colab_type": "text",
    "id": "LB6C0xscvB3o"
   },
   "source": [
    "## Optimizer:  learning the parameters step-by-step"
   ]
  },
  {
   "cell_type": "markdown",
   "metadata": {
    "colab_type": "text",
    "id": "Cwemv-t3vIbJ"
   },
   "source": [
    "So far, we’ve been **manually** updating the parameters using the computed gradients. That’s probably fine for *two parameters*… but what if we had a **whole lot of them**?! We use one of PyTorch’s **optimizers**, like [SGD](https://pytorch.org/docs/stable/optim.html#torch.optim.SGD) or [Adam](https://pytorch.org/docs/stable/optim.html#torch.optim.Adam).\n",
    "\n",
    "---\n",
    "\n",
    "There are **many** optimizers, **SGD** is the most basic of them and **Adam** is one of the most popular. They achieve the same goal through, literally, **different paths**.\n",
    "\n",
    "---\n",
    "\n",
    "![](images/sgd_adam_paths.png)\n",
    "\n",
    "![](images/sgd_nesterov_paths.png)\n",
    "\n",
    "In the code below, we create a *Stochastic Gradient Descent* (SGD) optimizer to update our parameters **b** and **w**.\n",
    "\n",
    "---\n",
    "\n",
    "Don’t be fooled by the **optimizer’s** name: if we use **all training data** at once for the update — as we are actually doing in the code — the optimizer is performing a **batch** gradient descent, despite of its name.\n",
    "\n",
    "---"
   ]
  },
  {
   "cell_type": "code",
   "execution_count": 83,
   "metadata": {
    "colab": {},
    "colab_type": "code",
    "id": "0gOkDgwawBUR"
   },
   "outputs": [],
   "source": [
    "# Our parameters\n",
    "torch.manual_seed(42)\n",
    "b = torch.randn(1, requires_grad=True, dtype=torch.float, device=device)\n",
    "w = torch.randn(1, requires_grad=True, dtype=torch.float, device=device)\n",
    "\n",
    "# Learning rate\n",
    "lr = 1e-1\n",
    "\n",
    "# Defines a SGD optimizer to update the parameters\n",
    "optimizer = optim.SGD([b, w], lr=lr)"
   ]
  },
  {
   "cell_type": "markdown",
   "metadata": {
    "colab_type": "text",
    "id": "Lw8Sku2ev4ML"
   },
   "source": [
    "### step / zero_grad"
   ]
  },
  {
   "cell_type": "markdown",
   "metadata": {
    "colab_type": "text",
    "id": "i3ljYgxLv52K"
   },
   "source": [
    "An optimizer takes the **parameters** we want to update, the **learning rate** we want to use (and possibly many other hyper-parameters as well!) and **performs the updates** through its [**`step()`**](https://pytorch.org/docs/stable/generated/torch.optim.Optimizer.step.html#torch.optim.Optimizer.step) method.\n",
    "\n",
    "Besides, we also don’t need to zero the gradients one by one anymore. We just invoke the optimizer’s [**`zero_grad()`**](https://pytorch.org/docs/stable/generated/torch.optim.Optimizer.zero_grad.html#torch.optim.Optimizer.zero_grad) method and that’s it!"
   ]
  },
  {
   "cell_type": "code",
   "execution_count": 84,
   "metadata": {
    "colab": {
     "base_uri": "https://localhost:8080/",
     "height": 34
    },
    "colab_type": "code",
    "id": "YcNkxhfEvDlT",
    "outputId": "2d6ae35e-44d3-45b6-a89a-9f9c0202b006"
   },
   "outputs": [
    {
     "name": "stdout",
     "output_type": "stream",
     "text": [
      "tensor([1.0235], device='cuda:0', requires_grad=True) tensor([1.9690], device='cuda:0', requires_grad=True)\n"
     ]
    }
   ],
   "source": [
    "n_epochs = 1000\n",
    "\n",
    "for epoch in range(n_epochs):\n",
    "    # Step 1\n",
    "    yhat = b + w * x_train_tensor\n",
    "\n",
    "    # Step 2\n",
    "    error = yhat - y_train_tensor\n",
    "    loss = (error ** 2).mean()\n",
    "\n",
    "    # Step 3\n",
    "    loss.backward()    \n",
    "    \n",
    "    # Step 4\n",
    "    # No more manual update!\n",
    "    # with torch.no_grad():\n",
    "    #     b -= lr * b.grad\n",
    "    #     w -= lr * w.grad\n",
    "    optimizer.step()\n",
    "    \n",
    "    # No more telling PyTorch to let gradients go!\n",
    "    # b.grad.zero_()\n",
    "    # w.grad.zero_()\n",
    "    optimizer.zero_grad()\n",
    "\n",
    "print(b, w)"
   ]
  },
  {
   "cell_type": "markdown",
   "metadata": {
    "colab_type": "text",
    "id": "zHwVdA0HxCON"
   },
   "source": [
    "Cool! We’ve *optimized* the **optimization** process :-) What’s left?"
   ]
  },
  {
   "cell_type": "markdown",
   "metadata": {
    "colab_type": "text",
    "id": "wAq8ytYfxK7w"
   },
   "source": [
    "## Loss: aggregating erros into a single value"
   ]
  },
  {
   "cell_type": "markdown",
   "metadata": {
    "colab_type": "text",
    "id": "h7f_eHQOxN5b"
   },
   "source": [
    "We now tackle the **loss computation**. As expected, PyTorch got us covered once again. There are many [loss functions](https://pytorch.org/docs/stable/nn.html#loss-functions) to choose from, depending on the task at hand. Since ours is a regression, we are using the [Mean Squared Error (MSE)](https://bit.ly/3hNYn4R) loss.\n",
    "\n",
    "---\n",
    "\n",
    "Notice that `nn.MSELoss` actually **creates a loss function** for us — **it is NOT the loss function itself**. Moreover, you can specify a **reduction method** to be applied, that is, **how do you want to aggregate the results for individual points** — you can average them (reduction=’mean’) or simply sum them up (reduction=’sum’).\n",
    "\n",
    "---"
   ]
  },
  {
   "cell_type": "code",
   "execution_count": 85,
   "metadata": {
    "colab": {
     "base_uri": "https://localhost:8080/",
     "height": 34
    },
    "colab_type": "code",
    "id": "eC4EH3rKxL1J",
    "outputId": "fad967b0-1bda-4dc2-8799-ba998d310fd7"
   },
   "outputs": [
    {
     "data": {
      "text/plain": [
       "MSELoss()"
      ]
     },
     "execution_count": 85,
     "metadata": {},
     "output_type": "execute_result"
    }
   ],
   "source": [
    "# Defines a MSE loss function\n",
    "loss_fn = nn.MSELoss(reduction='mean')\n",
    "\n",
    "loss_fn"
   ]
  },
  {
   "cell_type": "code",
   "execution_count": 86,
   "metadata": {
    "colab": {
     "base_uri": "https://localhost:8080/",
     "height": 34
    },
    "colab_type": "code",
    "id": "Pq5dPX8zBZk4",
    "outputId": "cbfba17a-003e-4f46-a501-21a02334d564"
   },
   "outputs": [
    {
     "data": {
      "text/plain": [
       "tensor(1.6667)"
      ]
     },
     "execution_count": 86,
     "metadata": {},
     "output_type": "execute_result"
    }
   ],
   "source": [
    "fake_labels = torch.tensor([1., 2., 3.])\n",
    "fake_preds = torch.tensor([1., 3., 5.])\n",
    "\n",
    "loss_fn(fake_preds, fake_labels)"
   ]
  },
  {
   "cell_type": "markdown",
   "metadata": {
    "colab_type": "text",
    "id": "kcS4vSiTyG7U"
   },
   "source": [
    "We then **use** the created loss function to compute the loss given our **predictions** and our **labels**."
   ]
  },
  {
   "cell_type": "code",
   "execution_count": 87,
   "metadata": {
    "colab": {
     "base_uri": "https://localhost:8080/",
     "height": 34
    },
    "colab_type": "code",
    "id": "SxmHENASx3-A",
    "outputId": "ff4998c9-ba0c-4c7c-fc50-f806ae1b5519"
   },
   "outputs": [
    {
     "name": "stdout",
     "output_type": "stream",
     "text": [
      "tensor([1.0235], device='cuda:0', requires_grad=True) tensor([1.9690], device='cuda:0', requires_grad=True)\n"
     ]
    }
   ],
   "source": [
    "torch.manual_seed(42)\n",
    "b = torch.randn(1, requires_grad=True, dtype=torch.float, device=device)\n",
    "w = torch.randn(1, requires_grad=True, dtype=torch.float, device=device)\n",
    "\n",
    "lr = 1e-1\n",
    "n_epochs = 1000\n",
    "\n",
    "# Defines a MSE loss function\n",
    "loss_fn = nn.MSELoss(reduction='mean')\n",
    "\n",
    "optimizer = optim.SGD([b, w], lr=lr)\n",
    "\n",
    "for epoch in range(n_epochs):\n",
    "    # Step 1\n",
    "    yhat = b + w * x_train_tensor\n",
    "    \n",
    "    # Step 2\n",
    "    # No more manual loss!\n",
    "    # error = y_tensor - yhat\n",
    "    # loss = (error ** 2).mean()\n",
    "    loss = loss_fn(yhat, y_train_tensor)\n",
    "\n",
    "    # Step 3\n",
    "    loss.backward() \n",
    "\n",
    "    # Step 4\n",
    "    optimizer.step()\n",
    "    optimizer.zero_grad()\n",
    "    \n",
    "print(b, w)"
   ]
  },
  {
   "cell_type": "markdown",
   "metadata": {
    "colab_type": "text",
    "id": "ey-gt8k4yUX6"
   },
   "source": [
    "At this point, there’s only one piece of code left to change: the **predictions**."
   ]
  },
  {
   "cell_type": "markdown",
   "metadata": {},
   "source": [
    "## Quiz"
   ]
  },
  {
   "cell_type": "code",
   "execution_count": 88,
   "metadata": {},
   "outputs": [
    {
     "name": "stdout",
     "output_type": "stream",
     "text": [
      "\n"
     ]
    },
    {
     "data": {
      "text/html": [
       "<div id=\"leBDGWpsNGwz\" data-shufflequestions=\"False\"\n",
       "               data-shuffleanswers=\"True\"\n",
       "               data-numquestions=\"1000000\"> <style>:root {\n",
       "    --medium-slate-blue: #6f78ffff;\n",
       "    --orange-pantone: #f75c03ff;\n",
       "    --russian-violet: #392061ff;\n",
       "    --maximum-yellow-red: #ffc857ff;\n",
       "    --viridian-green: #119da4ff;\n",
       "    --incorrect-red: #c80202;\n",
       "    --correct-green: #009113;\n",
       "}\n",
       "\n",
       ".Quiz {\n",
       "    max-width: 800px;\n",
       "    margin-top: 15px;\n",
       "    margin-left: auto;\n",
       "    margin-right: auto;\n",
       "    margin-bottom: 15px;\n",
       "    padding-bottom: 4px;\n",
       "    padding-top: 4px;\n",
       "    line-height: 1.1;\n",
       "    font-size: 16pt;\n",
       "}\n",
       "\n",
       ".QuizCode {\n",
       "    font-size: 14pt;\n",
       "    margin-top: 10px;\n",
       "    margin-left: 20px;\n",
       "    margin-right: 20px;\n",
       "}\n",
       "\n",
       ".QuizCode>pre {\n",
       "    padding: 4px;\n",
       "}\n",
       "\n",
       ".QuizImage img {\n",
       "    padding:  10px;\n",
       "}\n",
       "\n",
       ".Answer {\n",
       "    margin: 10px 0;\n",
       "    display: block;\n",
       "    grid-template-columns: auto auto;\n",
       "    grid-gap: 10px;\n",
       "}\n",
       "\n",
       ".Feedback {\n",
       "    font-size: 16pt;\n",
       "    text-align: left;\n",
       "    min-height: 2em;\n",
       "}\n",
       "\n",
       ".Input {\n",
       "    align: left;\n",
       "    font-size: 20pt;\n",
       "}\n",
       "\n",
       ".Input-text {\n",
       "    display: block;\n",
       "    margin: 10px;\n",
       "    color: inherit;\n",
       "    width: 140px;\n",
       "    background-color: #c0c0c0;\n",
       "    color: #fff;\n",
       "    padding: 5px;\n",
       "    padding-left: 10px;\n",
       "    font-family: inherit;\n",
       "    font-size: 20px;\n",
       "    font-weight: inherit;\n",
       "    line-height: 20pt;\n",
       "    border: none;\n",
       "    border-radius: 0.2rem;\n",
       "    transition: box-shadow 0.1s);\n",
       "}\n",
       "\n",
       ".Input-text:focus {\n",
       "    outline: none;\n",
       "    background-color: #c0c0c0;\n",
       "    box-shadow: 0.6rem 0.8rem 1.4rem -0.5rem #999999;\n",
       "}\n",
       "\n",
       ".MCButton {\n",
       "    background: #fafafa;\n",
       "    border: 1px solid #eee;\n",
       "    border-radius: 10px;\n",
       "    padding: 15px;\n",
       "    font-size: 16px;\n",
       "    cursor: pointer;\n",
       "    text-align: left;\n",
       "    display: block;\n",
       "}\n",
       "\n",
       ".MCButton p {\n",
       "    color: inherit;\n",
       "}\n",
       "\n",
       ".MCButton code {\n",
       "    background-color:  inherit;\n",
       "}\n",
       "\n",
       ".MCButton.correctButton code {\n",
       "    color:  white;\n",
       "}\n",
       "\n",
       ".MCButton.incorrectButton code {\n",
       "    color:  white;\n",
       "}\n",
       "\n",
       ".MultipleChoiceQn .QuizCode {\n",
       "    margin-bottom:  10px;\n",
       "    border:  1px solid #eee;\n",
       "    padding:  5px;\n",
       "}\n",
       "\n",
       ".MultipleChoiceQn code {\n",
       "    background-color: inherit;\n",
       "    color:  white;\n",
       "}\n",
       "\n",
       ".MultipleChoiceQn {\n",
       "    padding: 10px;\n",
       "    background: var(--medium-slate-blue);\n",
       "    color: #fafafa;\n",
       "    border-radius: 10px;\n",
       "}\n",
       "\n",
       ".ManyChoiceQn {\n",
       "    padding: 10px;\n",
       "    background: var(--orange-pantone);\n",
       "    color: #fafafa;\n",
       "    border-radius: 10px;\n",
       "}\n",
       "\n",
       ".NumericQn {\n",
       "    padding: 10px;\n",
       "    background: var(--russian-violet);\n",
       "    color: #fafafa;\n",
       "    border-radius: 10px;\n",
       "}\n",
       "\n",
       ".NumericQn p {\n",
       "    color: inherit;\n",
       "}\n",
       "\n",
       ".InpLabel {\n",
       "    line-height: 34px;\n",
       "    float: left;\n",
       "    margin-right: 10px;\n",
       "    color: #101010;\n",
       "    font-size: 15pt;\n",
       "}\n",
       "\n",
       ".incorrect {\n",
       "    color: var(--incorrect-red);\n",
       "}\n",
       "\n",
       ".correct {\n",
       "    color: var(--correct-green);\n",
       "}\n",
       "\n",
       ".correctButton {\n",
       "    /*\n",
       "    background: var(--correct-green);\n",
       "   */\n",
       "    animation: correct-anim 0.6s ease;\n",
       "    animation-fill-mode: forwards;\n",
       "    color: #fafafa;\n",
       "    box-shadow: inset 0px 0px 5px #555555;\n",
       "    outline: none;\n",
       "}\n",
       "\n",
       ".incorrectButton {\n",
       "    animation: incorrect-anim 0.8s ease;\n",
       "    animation-fill-mode: forwards;\n",
       "    color: #fafafa;\n",
       "    box-shadow: inset 0px 0px 5px #555555;\n",
       "    outline: none;\n",
       "}\n",
       "\n",
       "@keyframes incorrect-anim {\n",
       "    100% {\n",
       "        background-color: var(--incorrect-red);\n",
       "    }\n",
       "}\n",
       "\n",
       "@keyframes correct-anim {\n",
       "    100% {\n",
       "        background-color: var(--correct-green);\n",
       "    }\n",
       "}</style><script type=\"text/Javascript\">var element=document.getElementById(\"quiz3.b64\");\n",
       "            var questions;\n",
       "            try {\n",
       "               questionsleBDGWpsNGwz=JSON.parse(window.atob('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'));\n",
       "            } catch(err) {\n",
       "               console.log(\"Fell into catch\");\n",
       "               questionsleBDGWpsNGwz = JSON.parse('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');\n",
       "            }\n",
       "            console.log(questionsleBDGWpsNGwz);;\n",
       "    // Make a random ID\n",
       "function makeid(length) {\n",
       "    var result = [];\n",
       "    var characters = 'ABCDEFGHIJKLMNOPQRSTUVWXYZabcdefghijklmnopqrstuvwxyz';\n",
       "    var charactersLength = characters.length;\n",
       "    for (var i = 0; i < length; i++) {\n",
       "        result.push(characters.charAt(Math.floor(Math.random() * charactersLength)));\n",
       "    }\n",
       "    return result.join('');\n",
       "}\n",
       "\n",
       "// Choose a random subset of an array. Can also be used to shuffle the array\n",
       "function getRandomSubarray(arr, size) {\n",
       "    var shuffled = arr.slice(0), i = arr.length, temp, index;\n",
       "    while (i--) {\n",
       "        index = Math.floor((i + 1) * Math.random());\n",
       "        temp = shuffled[index];\n",
       "        shuffled[index] = shuffled[i];\n",
       "        shuffled[i] = temp;\n",
       "    }\n",
       "    return shuffled.slice(0, size);\n",
       "}\n",
       "function check_mc() {\n",
       "    var id = this.id.split('-')[0];\n",
       "\n",
       "    //console.log(\"In check_mc(), id=\"+id);\n",
       "    //console.log(event.srcElement.id)           \n",
       "    //console.log(event.srcElement.dataset.correct)   \n",
       "    //console.log(event.srcElement.dataset.feedback)\n",
       "\n",
       "    var label = event.srcElement;\n",
       "    console.log(label, label.nodeName);\n",
       "    var depth = 0;\n",
       "    while ((label.nodeName != \"LABEL\") && (depth < 20)) {\n",
       "        label = label.parentElement;\n",
       "        console.log(depth, label);\n",
       "        depth++;\n",
       "    }\n",
       "\n",
       "\n",
       "\n",
       "    var answers = label.parentElement.children;\n",
       "    var ans_div = label.parentElement;\n",
       "\n",
       "    //console.log(answers);\n",
       "\n",
       "    // Split behavior based on multiple choice vs many choice:\n",
       "    var fb = document.getElementById(\"fb\" + id);\n",
       "    //console.log(id, \", got numcorrect=\",fb.dataset.numcorrect);\n",
       "    if (fb.dataset.numcorrect == 1) {\n",
       "        for (var i = 0; i < answers.length; i++) {\n",
       "            var child = answers[i];\n",
       "            //console.log(child);\n",
       "            child.className = \"MCButton\";\n",
       "        }\n",
       "\n",
       "\n",
       "        var feedback = \"\";\n",
       "        if (\"feedback\" in label.dataset) {\n",
       "            feedback = jaxify(label.dataset.feedback);\n",
       "        }\n",
       "\n",
       "\n",
       "        if (label.dataset.correct == \"true\") {\n",
       "            // console.log(\"Correct action\");\n",
       "            if (feedback.length == 0) {\n",
       "                feedback = \"Correct!\";\n",
       "            }\n",
       "            label.classList.add(\"correctButton\");\n",
       "\n",
       "            fb.className = \"Feedback\";\n",
       "            fb.classList.add(\"correct\");\n",
       "            if (ans_div.hasAttribute('data-feedback')) {\n",
       "                feedback = jaxify(ans_div.getAttribute('data-feedback'));\n",
       "            };\n",
       "        } else {\n",
       "            if (feedback.length == 0) {\n",
       "                if (!ans_div.hasAttribute('data-feedback')) {\n",
       "                    feedback = \"Incorrect -- try again.\";\n",
       "                }\n",
       "            }            \n",
       "            //console.log(\"Error action\");\n",
       "            label.classList.add(\"incorrectButton\");\n",
       "            fb.className = \"Feedback\";\n",
       "            fb.classList.add(\"incorrect\");\n",
       "        }\n",
       "        fb.textContent = feedback;\n",
       "    }\n",
       "    else {\n",
       "        var reset = false;\n",
       "        var feedback;\n",
       "        if (label.dataset.correct == \"true\") {\n",
       "            if (\"feedback\" in label.dataset) {\n",
       "                feedback = jaxify(label.dataset.feedback);\n",
       "            } else {\n",
       "                feedback = \"Correct!\";\n",
       "            }\n",
       "            if (label.dataset.answered <= 0) {\n",
       "                if (fb.dataset.answeredcorrect < 0) {\n",
       "                    fb.dataset.answeredcorrect = 1;\n",
       "                    reset = true;\n",
       "                } else {\n",
       "                    fb.dataset.answeredcorrect++;\n",
       "                }\n",
       "                if (reset) {\n",
       "                    for (var i = 0; i < answers.length; i++) {\n",
       "                        var child = answers[i];\n",
       "                        child.className = \"MCButton\";\n",
       "                        child.dataset.answered = 0;\n",
       "                    }\n",
       "                }\n",
       "                label.classList.add(\"correctButton\");\n",
       "                label.dataset.answered = 1;\n",
       "                fb.className = \"Feedback\";\n",
       "                fb.classList.add(\"correct\");\n",
       "\n",
       "            }\n",
       "        } else {\n",
       "            if (\"feedback\" in label.dataset) {\n",
       "                feedback = jaxify(label.dataset.feedback);\n",
       "            } else {\n",
       "                feedback = \"Incorrect -- try again.\";\n",
       "            }\n",
       "            if (fb.dataset.answeredcorrect > 0) {\n",
       "                fb.dataset.answeredcorrect = -1;\n",
       "                reset = true;\n",
       "            } else {\n",
       "                fb.dataset.answeredcorrect--;\n",
       "            }\n",
       "\n",
       "            if (reset) {\n",
       "                for (var i = 0; i < answers.length; i++) {\n",
       "                    var child = answers[i];\n",
       "                    child.className = \"MCButton\";\n",
       "                    child.dataset.answered = 0;\n",
       "                }\n",
       "            }\n",
       "            label.classList.add(\"incorrectButton\");\n",
       "            fb.className = \"Feedback\";\n",
       "            fb.classList.add(\"incorrect\");\n",
       "        }\n",
       "\n",
       "\n",
       "        var numcorrect = fb.dataset.numcorrect;\n",
       "        var answeredcorrect = fb.dataset.answeredcorrect;\n",
       "        /*if (answeredcorrect >= 0) {\n",
       "            fb.textContent = feedback + \" [\" + answeredcorrect + \"/\" + numcorrect + \"]\";\n",
       "        } else {\n",
       "            fb.textContent = feedback + \" [\" + 0 + \"/\" + numcorrect + \"]\";\n",
       "        }*/\n",
       "        if (numcorrect == answeredcorrect) {\n",
       "            if (ans_div.hasAttribute('data-feedback')) {\n",
       "                feedback = ans_div.getAttribute('data-feedback');\n",
       "            };            \n",
       "            fb.textContent = feedback;\n",
       "        } else {\n",
       "            fb.textContent = \"\";\n",
       "        }\n",
       "\n",
       "    }\n",
       "\n",
       "    if (typeof MathJax != 'undefined') {\n",
       "        var version = MathJax.version;\n",
       "        console.log('MathJax version', version);\n",
       "        if (version[0] == \"2\") {\n",
       "            MathJax.Hub.Queue([\"Typeset\", MathJax.Hub]);\n",
       "        } else if (version[0] == \"3\") {\n",
       "            MathJax.typeset([fb]);\n",
       "        }\n",
       "    } else {\n",
       "        console.log('MathJax not detected');\n",
       "    }\n",
       "\n",
       "}\n",
       "\n",
       "function make_mc(qa, shuffle_answers, outerqDiv, qDiv, aDiv, id) {\n",
       "    var shuffled;\n",
       "    if (shuffle_answers == \"True\") {\n",
       "        //console.log(shuffle_answers+\" read as true\");\n",
       "        shuffled = getRandomSubarray(qa.answers, qa.answers.length);\n",
       "    } else {\n",
       "        //console.log(shuffle_answers+\" read as false\");\n",
       "        shuffled = qa.answers;\n",
       "    }\n",
       "\n",
       "\n",
       "    var num_correct = 0;\n",
       "\n",
       "    if (\"feedback\" in qa) {\n",
       "        aDiv.setAttribute('data-feedback', qa.feedback);\n",
       "    }\n",
       "\n",
       "    shuffled.forEach((item, index, ans_array) => {\n",
       "        //console.log(answer);\n",
       "\n",
       "        // Make input element\n",
       "        var inp = document.createElement(\"input\");\n",
       "        inp.type = \"radio\";\n",
       "        inp.id = \"quizo\" + id + index;\n",
       "        inp.style = \"display:none;\";\n",
       "        aDiv.append(inp);\n",
       "\n",
       "        //Make label for input element\n",
       "        var lab = document.createElement(\"label\");\n",
       "        lab.className = \"MCButton\";\n",
       "        lab.id = id + '-' + index;\n",
       "        lab.onclick = check_mc;\n",
       "        var aSpan = document.createElement('span');\n",
       "        aSpan.classsName = \"\";\n",
       "        //qDiv.id=\"quizQn\"+id+index;\n",
       "        if (\"answer\" in item) {\n",
       "            aSpan.innerHTML = jaxify(item.answer);\n",
       "            //aSpan.innerHTML=item.answer;\n",
       "        }\n",
       "        lab.append(aSpan);\n",
       "\n",
       "        // Create div for code inside question\n",
       "        var codeSpan;\n",
       "        if (\"code\" in item) {\n",
       "            codeSpan = document.createElement('span');\n",
       "            codeSpan.id = \"code\" + id + index;\n",
       "            codeSpan.className = \"QuizCode\";\n",
       "            //var codePre = document.createElement('pre');\n",
       "            //codeSpan.append(codePre);\n",
       "            var codeCode = document.createElement('code');\n",
       "            //codePre.append(codeCode);\n",
       "            codeSpan.append(codeCode);\n",
       "            codeCode.innerHTML = item.code;\n",
       "            lab.append(codeSpan);\n",
       "            //console.log(codeSpan);\n",
       "        }\n",
       "\n",
       "        // Create div for code inside question\n",
       "        var imageSpan;\n",
       "        if (\"image\" in item) {\n",
       "            imageSpan = document.createElement('span');\n",
       "            imageSpan.id = \"image\" + id + index;\n",
       "            imageSpan.className = \"QuizImage\";\n",
       "            var image = document.createElement('img');\n",
       "            imageSpan.append(image);\n",
       "            Object.keys(item.image).forEach(el => image.setAttribute(el, item.image[el]));\n",
       "            lab.append(imageSpan);\n",
       "        }\n",
       "\n",
       "        //lab.textContent=item.answer;\n",
       "\n",
       "        // Set the data attributes for the answer\n",
       "        lab.setAttribute('data-correct', item.correct);\n",
       "        if (item.correct) {\n",
       "            num_correct++;\n",
       "        }\n",
       "        if (\"feedback\" in item) {\n",
       "            lab.setAttribute('data-feedback', item.feedback);\n",
       "        }\n",
       "        lab.setAttribute('data-answered', 0);\n",
       "\n",
       "        aDiv.append(lab);\n",
       "\n",
       "    });\n",
       "\n",
       "    if (num_correct > 1) {\n",
       "        outerqDiv.className = \"ManyChoiceQn\";\n",
       "    } else {\n",
       "        outerqDiv.className = \"MultipleChoiceQn\";\n",
       "    }\n",
       "\n",
       "    return num_correct;\n",
       "\n",
       "}\n",
       "function check_numeric(ths, event) {\n",
       "\n",
       "    if (event.keyCode === 13) {\n",
       "        ths.blur();\n",
       "\n",
       "        var id = ths.id.split('-')[0];\n",
       "\n",
       "        var submission = ths.value;\n",
       "        if (submission.indexOf('/') != -1) {\n",
       "            sub_parts = submission.split('/');\n",
       "            //console.log(sub_parts);\n",
       "            submission = sub_parts[0] / sub_parts[1];\n",
       "        }\n",
       "        //console.log(\"Reader entered\", submission);\n",
       "\n",
       "        if (\"precision\" in ths.dataset) {\n",
       "            precision = ths.dataset.precision;\n",
       "            // console.log(\"1:\", submission)\n",
       "            submission = Math.round((1 * submission + Number.EPSILON) * 10 ** precision) / 10 ** precision;\n",
       "            // console.log(\"Rounded to \", submission, \" precision=\", precision  );\n",
       "        }\n",
       "\n",
       "\n",
       "        //console.log(\"In check_numeric(), id=\"+id);\n",
       "        //console.log(event.srcElement.id)           \n",
       "        //console.log(event.srcElement.dataset.feedback)\n",
       "\n",
       "        var fb = document.getElementById(\"fb\" + id);\n",
       "        fb.style.display = \"none\";\n",
       "        fb.textContent = \"Incorrect -- try again.\";\n",
       "\n",
       "        answers = JSON.parse(ths.dataset.answers);\n",
       "        //console.log(answers);\n",
       "\n",
       "        var defaultFB = \"\";\n",
       "        var correct;\n",
       "        var done = false;\n",
       "        answers.every(answer => {\n",
       "            //console.log(answer.type);\n",
       "\n",
       "            correct = false;\n",
       "            // if (answer.type==\"value\"){\n",
       "            if ('value' in answer) {\n",
       "                if (submission == answer.value) {\n",
       "                    fb.textContent = jaxify(answer.feedback);\n",
       "                    correct = answer.correct;\n",
       "                    //console.log(answer.correct);\n",
       "                    done = true;\n",
       "                }\n",
       "                // } else if (answer.type==\"range\") {\n",
       "            } else if ('range' in answer) {\n",
       "                //console.log(answer.range);\n",
       "                if ((submission >= answer.range[0]) && (submission < answer.range[1])) {\n",
       "                    fb.textContent = jaxify(answer.feedback);\n",
       "                    correct = answer.correct;\n",
       "                    //console.log(answer.correct);\n",
       "                    done = true;\n",
       "                }\n",
       "            } else if (answer.type == \"default\") {\n",
       "                defaultFB = answer.feedback;\n",
       "            }\n",
       "            if (done) {\n",
       "                return false; // Break out of loop if this has been marked correct\n",
       "            } else {\n",
       "                return true; // Keep looking for case that includes this as a correct answer\n",
       "            }\n",
       "        });\n",
       "\n",
       "        if ((!done) && (defaultFB != \"\")) {\n",
       "            fb.innerHTML = jaxify(defaultFB);\n",
       "            //console.log(\"Default feedback\", defaultFB);\n",
       "        }\n",
       "\n",
       "        fb.style.display = \"block\";\n",
       "        if (correct) {\n",
       "            ths.className = \"Input-text\";\n",
       "            ths.classList.add(\"correctButton\");\n",
       "            fb.className = \"Feedback\";\n",
       "            fb.classList.add(\"correct\");\n",
       "        } else {\n",
       "            ths.className = \"Input-text\";\n",
       "            ths.classList.add(\"incorrectButton\");\n",
       "            fb.className = \"Feedback\";\n",
       "            fb.classList.add(\"incorrect\");\n",
       "        }\n",
       "        if (typeof MathJax != 'undefined') {\n",
       "            var version = MathJax.version;\n",
       "            console.log('MathJax version', version);\n",
       "            if (version[0] == \"2\") {\n",
       "                MathJax.Hub.Queue([\"Typeset\", MathJax.Hub]);\n",
       "            } else if (version[0] == \"3\") {\n",
       "                MathJax.typeset([fb]);\n",
       "            }\n",
       "        } else {\n",
       "            console.log('MathJax not detected');\n",
       "        }\n",
       "        return false;\n",
       "    }\n",
       "\n",
       "}\n",
       "\n",
       "function isValid(el, charC) {\n",
       "    //console.log(\"Input char: \", charC);\n",
       "    if (charC == 46) {\n",
       "        if (el.value.indexOf('.') === -1) {\n",
       "            return true;\n",
       "        } else if (el.value.indexOf('/') != -1) {\n",
       "            parts = el.value.split('/');\n",
       "            if (parts[1].indexOf('.') === -1) {\n",
       "                return true;\n",
       "            }\n",
       "        }\n",
       "        else {\n",
       "            return false;\n",
       "        }\n",
       "    } else if (charC == 47) {\n",
       "        if (el.value.indexOf('/') === -1) {\n",
       "            if ((el.value != \"\") && (el.value != \".\")) {\n",
       "                return true;\n",
       "            } else {\n",
       "                return false;\n",
       "            }\n",
       "        } else {\n",
       "            return false;\n",
       "        }\n",
       "    } else if (charC == 45) {\n",
       "        edex = el.value.indexOf('e');\n",
       "        if (edex == -1) {\n",
       "            edex = el.value.indexOf('E');\n",
       "        }\n",
       "\n",
       "        if (el.value == \"\") {\n",
       "            return true;\n",
       "        } else if (edex == (el.value.length - 1)) { // If just after e or E\n",
       "            return true;\n",
       "        } else {\n",
       "            return false;\n",
       "        }\n",
       "    } else if (charC == 101) { // \"e\"\n",
       "        if ((el.value.indexOf('e') === -1) && (el.value.indexOf('E') === -1) && (el.value.indexOf('/') == -1)) {\n",
       "            // Prev symbol must be digit or decimal point:\n",
       "            if (el.value.slice(-1).search(/\\d/) >= 0) {\n",
       "                return true;\n",
       "            } else if (el.value.slice(-1).search(/\\./) >= 0) {\n",
       "                return true;\n",
       "            } else {\n",
       "                return false;\n",
       "            }\n",
       "        } else {\n",
       "            return false;\n",
       "        }\n",
       "    } else {\n",
       "        if (charC > 31 && (charC < 48 || charC > 57))\n",
       "            return false;\n",
       "    }\n",
       "    return true;\n",
       "}\n",
       "\n",
       "function numeric_keypress(evnt) {\n",
       "    var charC = (evnt.which) ? evnt.which : evnt.keyCode;\n",
       "\n",
       "    if (charC == 13) {\n",
       "        check_numeric(this, evnt);\n",
       "    } else {\n",
       "        return isValid(this, charC);\n",
       "    }\n",
       "}\n",
       "\n",
       "\n",
       "\n",
       "\n",
       "\n",
       "function make_numeric(qa, outerqDiv, qDiv, aDiv, id) {\n",
       "\n",
       "\n",
       "\n",
       "    //console.log(answer);\n",
       "\n",
       "\n",
       "    outerqDiv.className = \"NumericQn\";\n",
       "    aDiv.style.display = 'block';\n",
       "\n",
       "    var lab = document.createElement(\"label\");\n",
       "    lab.className = \"InpLabel\";\n",
       "    lab.textContent = \"Type numeric answer here:\";\n",
       "    aDiv.append(lab);\n",
       "\n",
       "    var inp = document.createElement(\"input\");\n",
       "    inp.type = \"text\";\n",
       "    //inp.id=\"input-\"+id;\n",
       "    inp.id = id + \"-0\";\n",
       "    inp.className = \"Input-text\";\n",
       "    inp.setAttribute('data-answers', JSON.stringify(qa.answers));\n",
       "    if (\"precision\" in qa) {\n",
       "        inp.setAttribute('data-precision', qa.precision);\n",
       "    }\n",
       "    aDiv.append(inp);\n",
       "    //console.log(inp);\n",
       "\n",
       "    //inp.addEventListener(\"keypress\", check_numeric);\n",
       "    //inp.addEventListener(\"keypress\", numeric_keypress);\n",
       "    /*\n",
       "    inp.addEventListener(\"keypress\", function(event) {\n",
       "        return numeric_keypress(this, event);\n",
       "    }\n",
       "                        );\n",
       "                        */\n",
       "    //inp.onkeypress=\"return numeric_keypress(this, event)\";\n",
       "    inp.onkeypress = numeric_keypress;\n",
       "    inp.onpaste = event => false;\n",
       "\n",
       "    inp.addEventListener(\"focus\", function (event) {\n",
       "        this.value = \"\";\n",
       "        return false;\n",
       "    }\n",
       "    );\n",
       "\n",
       "\n",
       "}\n",
       "function jaxify(string) {\n",
       "    var mystring = string;\n",
       "\n",
       "    count = 0;\n",
       "    var loc = mystring.search(/([^\\\\]|^)(\\$)/);\n",
       "\n",
       "    count2 = 0;\n",
       "    var loc2 = mystring.search(/([^\\\\]|^)(\\$\\$)/);\n",
       "\n",
       "    //console.log(loc);\n",
       "\n",
       "    while ((loc >= 0) || (loc2 >= 0)) {\n",
       "\n",
       "        /* Have to replace all the double $$ first with current implementation */\n",
       "        if (loc2 >= 0) {\n",
       "            if (count2 % 2 == 0) {\n",
       "                mystring = mystring.replace(/([^\\\\]|^)(\\$\\$)/, \"$1\\\\[\");\n",
       "            } else {\n",
       "                mystring = mystring.replace(/([^\\\\]|^)(\\$\\$)/, \"$1\\\\]\");\n",
       "            }\n",
       "            count2++;\n",
       "        } else {\n",
       "            if (count % 2 == 0) {\n",
       "                mystring = mystring.replace(/([^\\\\]|^)(\\$)/, \"$1\\\\(\");\n",
       "            } else {\n",
       "                mystring = mystring.replace(/([^\\\\]|^)(\\$)/, \"$1\\\\)\");\n",
       "            }\n",
       "            count++;\n",
       "        }\n",
       "        loc = mystring.search(/([^\\\\]|^)(\\$)/);\n",
       "        loc2 = mystring.search(/([^\\\\]|^)(\\$\\$)/);\n",
       "        //console.log(mystring,\", loc:\",loc,\", loc2:\",loc2);\n",
       "    }\n",
       "\n",
       "    //console.log(mystring);\n",
       "    return mystring;\n",
       "}\n",
       "\n",
       "\n",
       "function show_questions(json, mydiv) {\n",
       "    //var mydiv=document.getElementById(myid);\n",
       "    var shuffle_questions = mydiv.dataset.shufflequestions;\n",
       "    var num_questions = mydiv.dataset.numquestions;\n",
       "    var shuffle_answers = mydiv.dataset.shuffleanswers;\n",
       "\n",
       "    if (num_questions > json.length) {\n",
       "        num_questions = json.length;\n",
       "    }\n",
       "\n",
       "    var questions;\n",
       "    if ((num_questions < json.length) || (shuffle_questions == \"True\")) {\n",
       "        //console.log(num_questions+\",\"+json.length);\n",
       "        questions = getRandomSubarray(json, num_questions);\n",
       "    } else {\n",
       "        questions = json;\n",
       "    }\n",
       "\n",
       "    //console.log(\"SQ: \"+shuffle_questions+\", NQ: \" + num_questions + \", SA: \", shuffle_answers);\n",
       "\n",
       "    // Iterate over questions\n",
       "    questions.forEach((qa, index, array) => {\n",
       "        //console.log(qa.question); \n",
       "\n",
       "        var id = makeid(8);\n",
       "        //console.log(id);\n",
       "\n",
       "\n",
       "        // Create Div to contain question and answers\n",
       "        var iDiv = document.createElement('div');\n",
       "        iDiv.id = 'quizWrap' + id + index;\n",
       "        iDiv.className = 'Quiz';\n",
       "        mydiv.appendChild(iDiv);\n",
       "        // iDiv.innerHTML=qa.question;\n",
       "\n",
       "        var outerqDiv = document.createElement('div');\n",
       "        outerqDiv.id = \"OuterquizQn\" + id + index;\n",
       "        //qDiv.textContent=qa.question;\n",
       "        iDiv.append(outerqDiv);\n",
       "\n",
       "        // Create div to contain question part\n",
       "        var qDiv = document.createElement('div');\n",
       "        qDiv.id = \"quizQn\" + id + index;\n",
       "        //qDiv.textContent=qa.question;\n",
       "        qDiv.innerHTML = jaxify(qa.question);\n",
       "        outerqDiv.append(qDiv);\n",
       "\n",
       "        // Create div for code inside question\n",
       "        var codeDiv;\n",
       "        if (\"code\" in qa) {\n",
       "            codeDiv = document.createElement('div');\n",
       "            codeDiv.id = \"code\" + id + index;\n",
       "            codeDiv.className = \"QuizCode\";\n",
       "            //var codePre = document.createElement('pre');\n",
       "            //codeDiv.append(codePre);\n",
       "            var codeCode = document.createElement('code');\n",
       "            //codePre.append(codeCode);\n",
       "            codeDiv.append(codeCode);\n",
       "            codeCode.innerHTML = qa.code;\n",
       "            outerqDiv.append(codeDiv);\n",
       "            //console.log(codeDiv);\n",
       "        }\n",
       "\n",
       "        // Create div for image inside question\n",
       "        var imgDiv;\n",
       "        if (\"image\" in qa) {\n",
       "            imgDiv = document.createElement('div');\n",
       "            imgDiv.id = \"image\" + id + index;\n",
       "            imgDiv.className = \"QuizImage\";\n",
       "            var image = document.createElement('img');\n",
       "            Object.keys(qa.image).forEach(el => image.setAttribute(el, qa.image[el]));\n",
       "            imgDiv.append(image);\n",
       "            outerqDiv.append(imgDiv);\n",
       "        }\n",
       "\n",
       "\n",
       "        // Create div to contain answer part\n",
       "        var aDiv = document.createElement('div');\n",
       "        aDiv.id = \"quizAns\" + id + index;\n",
       "        aDiv.className = 'Answer';\n",
       "        iDiv.append(aDiv);\n",
       "\n",
       "        //console.log(qa.type);\n",
       "\n",
       "        var num_correct;\n",
       "        if (qa.type == \"multiple_choice\") {\n",
       "            num_correct = make_mc(qa, shuffle_answers, outerqDiv, qDiv, aDiv, id);\n",
       "        } else if (qa.type == \"many_choice\") {\n",
       "            num_correct = make_mc(qa, shuffle_answers, outerqDiv, qDiv, aDiv, id);\n",
       "        } else if (qa.type == \"numeric\") {\n",
       "            //console.log(\"numeric\");\n",
       "            make_numeric(qa, outerqDiv, qDiv, aDiv, id);\n",
       "        }\n",
       "\n",
       "\n",
       "        //Make div for feedback\n",
       "        var fb = document.createElement(\"div\");\n",
       "        fb.id = \"fb\" + id;\n",
       "        //fb.style=\"font-size: 20px;text-align:center;\";\n",
       "        fb.className = \"Feedback\";\n",
       "        fb.setAttribute(\"data-answeredcorrect\", 0);\n",
       "        fb.setAttribute(\"data-numcorrect\", num_correct);\n",
       "        iDiv.append(fb);\n",
       "\n",
       "\n",
       "    });\n",
       "    //console.log(\"At end of show_questions\");\n",
       "    if (typeof MathJax != 'undefined') {\n",
       "        console.log(\"MathJax version\", MathJax.version);\n",
       "        var version = MathJax.version;\n",
       "        setTimeout(function(){\n",
       "            var version = MathJax.version;\n",
       "            console.log('After sleep, MathJax version', version);\n",
       "            if (version[0] == \"2\") {\n",
       "                MathJax.Hub.Queue([\"Typeset\", MathJax.Hub]);\n",
       "            } else if (version[0] == \"3\") {\n",
       "                MathJax.typeset([mydiv]);\n",
       "            }\n",
       "        }, 500);\n",
       "if (typeof version == 'undefined') {\n",
       "        } else\n",
       "        {\n",
       "            if (version[0] == \"2\") {\n",
       "                MathJax.Hub.Queue([\"Typeset\", MathJax.Hub]);\n",
       "            } else if (version[0] == \"3\") {\n",
       "                MathJax.typeset([mydiv]);\n",
       "            } else {\n",
       "                console.log(\"MathJax not found\");\n",
       "            }\n",
       "        }\n",
       "    }\n",
       "    return false;\n",
       "}\n",
       "\n",
       "        {\n",
       "        show_questions(questionsleBDGWpsNGwz,  leBDGWpsNGwz);\n",
       "        }\n",
       "        </script>\n",
       "        "
      ],
      "text/plain": [
       "<IPython.core.display.HTML object>"
      ]
     },
     "metadata": {},
     "output_type": "display_data"
    }
   ],
   "source": [
    "display_quiz('#./quiz/quiz3.b64')"
   ]
  },
  {
   "cell_type": "markdown",
   "metadata": {},
   "source": [
    "# Exercise #3"
   ]
  },
  {
   "cell_type": "code",
   "execution_count": null,
   "metadata": {},
   "outputs": [],
   "source": []
  }
 ],
 "metadata": {
  "kernelspec": {
   "display_name": "Python 3",
   "language": "python",
   "name": "python3"
  },
  "language_info": {
   "codemirror_mode": {
    "name": "ipython",
    "version": 3
   },
   "file_extension": ".py",
   "mimetype": "text/x-python",
   "name": "python",
   "nbconvert_exporter": "python",
   "pygments_lexer": "ipython3",
   "version": "3.7.5"
  }
 },
 "nbformat": 4,
 "nbformat_minor": 5
}
