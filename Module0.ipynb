{
 "cells": [
  {
   "cell_type": "code",
   "execution_count": 6,
   "metadata": {
    "scrolled": true
   },
   "outputs": [
    {
     "data": {
      "text/html": [
       "<style>.container { width:90% !important; }.text_cell_render, .output_text {font-family: Lato;font-size: 18px;line-height: 1.5;}.CodeMirror {font-size: 16px;}</style>"
      ],
      "text/plain": [
       "<IPython.core.display.HTML object>"
      ]
     },
     "metadata": {},
     "output_type": "display_data"
    }
   ],
   "source": [
    "from IPython.display import display, HTML\n",
    "display(HTML(\"\"\"<style>.container { width:90% !important; }.text_cell_render, .output_text {font-family: Lato;font-size: 18px;line-height: 1.5;}.CodeMirror {font-size: 16px;}</style>\"\"\"))"
   ]
  },
  {
   "cell_type": "markdown",
   "metadata": {
    "colab_type": "text",
    "id": "0gQXaOBBo1oW"
   },
   "source": [
    "![](https://raw.githubusercontent.com/dvgodoy/PyTorch101_AI_Plus/main/images/pytorch-logo-dark.png)\n",
    "\n",
    "# PyTorch 101: Building a Model Step-by-Step"
   ]
  },
  {
   "cell_type": "markdown",
   "metadata": {},
   "source": [
    "## About Me\n",
    "\n",
    "I've been teaching machine learning and distributed computing technologies at Data Science Retreat, the longest-running Berlin-based bootcamp, since 2016, helping more than 150 students advance their careers.\n",
    "\n",
    "My professional background includes 20 years of experience working for companies in several industries: banking, government, fintech, retail and mobility.\n",
    "\n",
    "I write regularly for Towards Data Science. My blog post [\"Understanding PyTorch with an example: a step-by-step tutorial\"](https://towardsdatascience.com/understanding-pytorch-with-an-example-a-step-by-step-tutorial-81fc5f8c4e8e) reached more than 300,000 views since it was published.\n",
    "\n",
    "The positive feedback from the readers motivated me to write the series of books [\"Deep Learning with PyTorch Step-by-Step: A Beginner's Guide\"](https://pytorchstepbystep.com), which covers a broader range of topics."
   ]
  },
  {
   "cell_type": "markdown",
   "metadata": {
    "colab_type": "text",
    "id": "QEp40UvmAmPK"
   },
   "source": [
    "## Introduction"
   ]
  },
  {
   "cell_type": "markdown",
   "metadata": {
    "colab_type": "text",
    "id": "kyE2ltG3Auin"
   },
   "source": [
    "**PyTorch** is the **fastest growing** Deep Learning framework and it is also used by **Fast.ai** in its MOOC, [Deep Learning for Coders](https://course.fast.ai/) and its [library](https://docs.fast.ai/).\n",
    "\n",
    "PyTorch is also very *pythonic*, meaning, it feels more natural to use it if you already are a Python developer.\n",
    "\n",
    "Besides, using PyTorch may even improve your health, according to [Andrej Karpathy](https://twitter.com/karpathy/status/868178954032513024) :-)\n",
    "\n",
    "<p align=\"center\">\n",
    "<img src=\"https://raw.githubusercontent.com/dvgodoy/PyTorch101_AI_Plus/main/images/tweet_karpathy.png\">\n",
    "</p>"
   ]
  },
  {
   "cell_type": "markdown",
   "metadata": {
    "colab_type": "text",
    "id": "YSt6oP0rA_FG"
   },
   "source": [
    "## Motivation"
   ]
  },
  {
   "cell_type": "markdown",
   "metadata": {
    "colab_type": "text",
    "id": "PPZG7RmuBCv0"
   },
   "source": [
    "There are *many many* PyTorch tutorials around and its documentation is quite complete and extensive. So, **why** should you keep reading this step-by-step tutorial?\n",
    "\n",
    "Well, even though one can find information on pretty much anything PyTorch can do, I missed having a **structured, incremental and from first principles** approach to it.\n",
    "\n",
    "In this tutorial, I will guide you through the *main reasons* why PyTorch makes it much **easier** and more **intuitive** to build a Deep Learning model in Python — **autograd, dynamic computation graph, model classes** and more."
   ]
  },
  {
   "cell_type": "markdown",
   "metadata": {},
   "source": [
    "## Agenda\n",
    "\n",
    "<h2> Module 1:\n",
    "<h3>\n",
    "<ul>\n",
    "    <li>A Simple Problem - Linear Regression</li>\n",
    "</ul>\n",
    "<ul>\n",
    "    <li>PyTorch: tensors, tensors, tensors</li>\n",
    "</ul>\n",
    "</h3>\n",
    "</h2>\n",
    "\n",
    "<h2> Module 2:\n",
    "<h3>\n",
    "<ul>\n",
    "    <li>Gradient descent in 5 easy steps!</li>\n",
    "</ul>\n",
    "<ul>\n",
    "    <li>Learning rate</li>\n",
    "</ul>\n",
    "<ul>    \n",
    "    <li>Feature scaling</li>\n",
    "</ul>\n",
    "</h3>\n",
    "</h2>\n",
    "\n",
    "<h2> Module 3:\n",
    "<h3>\n",
    "<ul>\n",
    "    <li>Autograd, your companion for all your gradient needs!</li>\n",
    "</ul>\n",
    "<ul>\n",
    "    <li>Dynamic Computation Graph: what is that?</li>\n",
    "</ul>\n",
    "<ul>\n",
    "    <li>Optimizer: learning the parameters step-by-step</li>\n",
    "</ul>\n",
    "<ul>\n",
    "    <li>Loss: aggregating errors into a single value</li>\n",
    "</ul>\n",
    "</h3>\n",
    "</h2>\n",
    "\n",
    "<h2> Module 4:\n",
    "<h3>\n",
    "<ul>\n",
    "    <li>Model: making predictions</li>\n",
    "</ul>\n",
    "<ul>\n",
    "    <li>Nested models</li>\n",
    "</ul>\n",
    "<ul>\n",
    "    <li>Organizing your code</li>\n",
    "</ul>\n",
    "</h3>\n",
    "</h2>\n",
    "\n",
    "<h2> Module 5:\n",
    "<h3>\n",
    "<ul>\n",
    "    <li>Dataset</li>\n",
    "</ul>\n",
    "<ul>\n",
    "    <li>DataLoader, splitting your data into mini-batches</li>\n",
    "</ul>\n",
    "<ul>\n",
    "    <li>Evaluation: does it generalize?</li>\n",
    "</ul>\n",
    "<ul>\n",
    "    <li>Saving (and loading) models: taking a break</li>\n",
    "</ul>\n",
    "</h3>\n",
    "</h2>"
   ]
  },
  {
   "cell_type": "code",
   "execution_count": null,
   "metadata": {},
   "outputs": [],
   "source": []
  }
 ],
 "metadata": {
  "kernelspec": {
   "display_name": "Python 3",
   "language": "python",
   "name": "python3"
  },
  "language_info": {
   "codemirror_mode": {
    "name": "ipython",
    "version": 3
   },
   "file_extension": ".py",
   "mimetype": "text/x-python",
   "name": "python",
   "nbconvert_exporter": "python",
   "pygments_lexer": "ipython3",
   "version": "3.7.5"
  }
 },
 "nbformat": 4,
 "nbformat_minor": 5
}
